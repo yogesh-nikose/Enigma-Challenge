{
 "cells": [
  {
   "cell_type": "code",
   "execution_count": 1,
   "metadata": {},
   "outputs": [],
   "source": [
    "import pandas as pd \n",
    "import numpy as np \n",
    "import matplotlib.pyplot as plt \n"
   ]
  },
  {
   "cell_type": "code",
   "execution_count": 2,
   "metadata": {},
   "outputs": [],
   "source": [
    "train = pd.read_csv('C:/Users/Nikose/Desktop/enigma/train.csv')"
   ]
  },
  {
   "cell_type": "code",
   "execution_count": 3,
   "metadata": {},
   "outputs": [],
   "source": [
    "test = pd.read_csv('C:/Users/Nikose/Desktop/enigma/test.csv')"
   ]
  },
  {
   "cell_type": "code",
   "execution_count": 4,
   "metadata": {},
   "outputs": [],
   "source": [
    "test1 = pd.read_csv('C:/Users/Nikose/Desktop/enigma/test.csv')"
   ]
  },
  {
   "cell_type": "code",
   "execution_count": 5,
   "metadata": {},
   "outputs": [
    {
     "data": {
      "text/html": [
       "<div>\n",
       "<style scoped>\n",
       "    .dataframe tbody tr th:only-of-type {\n",
       "        vertical-align: middle;\n",
       "    }\n",
       "\n",
       "    .dataframe tbody tr th {\n",
       "        vertical-align: top;\n",
       "    }\n",
       "\n",
       "    .dataframe thead th {\n",
       "        text-align: right;\n",
       "    }\n",
       "</style>\n",
       "<table border=\"1\" class=\"dataframe\">\n",
       "  <thead>\n",
       "    <tr style=\"text-align: right;\">\n",
       "      <th></th>\n",
       "      <th>ID</th>\n",
       "      <th>Tag</th>\n",
       "      <th>Reputation</th>\n",
       "      <th>Answers</th>\n",
       "      <th>Username</th>\n",
       "      <th>Views</th>\n",
       "    </tr>\n",
       "  </thead>\n",
       "  <tbody>\n",
       "    <tr>\n",
       "      <th>0</th>\n",
       "      <td>366953</td>\n",
       "      <td>a</td>\n",
       "      <td>5645.0</td>\n",
       "      <td>3.0</td>\n",
       "      <td>50652</td>\n",
       "      <td>33200.0</td>\n",
       "    </tr>\n",
       "    <tr>\n",
       "      <th>1</th>\n",
       "      <td>71864</td>\n",
       "      <td>c</td>\n",
       "      <td>24511.0</td>\n",
       "      <td>6.0</td>\n",
       "      <td>37685</td>\n",
       "      <td>2730.0</td>\n",
       "    </tr>\n",
       "  </tbody>\n",
       "</table>\n",
       "</div>"
      ],
      "text/plain": [
       "       ID Tag  Reputation  Answers  Username    Views\n",
       "0  366953   a      5645.0      3.0     50652  33200.0\n",
       "1   71864   c     24511.0      6.0     37685   2730.0"
      ]
     },
     "execution_count": 5,
     "metadata": {},
     "output_type": "execute_result"
    }
   ],
   "source": [
    "test.head(2)"
   ]
  },
  {
   "cell_type": "code",
   "execution_count": 6,
   "metadata": {},
   "outputs": [],
   "source": [
    "# data analysis and wrangling\n",
    "import pandas as pd\n",
    "import numpy as np\n",
    "import random as rnd\n",
    "\n",
    "# visualization\n",
    "import seaborn as sns\n",
    "import matplotlib.pyplot as plt\n",
    "%matplotlib inline"
   ]
  },
  {
   "cell_type": "code",
   "execution_count": 78,
   "metadata": {},
   "outputs": [],
   "source": [
    "combine = [X_train, test]"
   ]
  },
  {
   "cell_type": "code",
   "execution_count": 8,
   "metadata": {},
   "outputs": [
    {
     "data": {
      "text/html": [
       "<div>\n",
       "<style scoped>\n",
       "    .dataframe tbody tr th:only-of-type {\n",
       "        vertical-align: middle;\n",
       "    }\n",
       "\n",
       "    .dataframe tbody tr th {\n",
       "        vertical-align: top;\n",
       "    }\n",
       "\n",
       "    .dataframe thead th {\n",
       "        text-align: right;\n",
       "    }\n",
       "</style>\n",
       "<table border=\"1\" class=\"dataframe\">\n",
       "  <thead>\n",
       "    <tr style=\"text-align: right;\">\n",
       "      <th></th>\n",
       "      <th>ID</th>\n",
       "      <th>Tag</th>\n",
       "      <th>Reputation</th>\n",
       "      <th>Answers</th>\n",
       "      <th>Username</th>\n",
       "      <th>Views</th>\n",
       "      <th>Upvotes</th>\n",
       "    </tr>\n",
       "  </thead>\n",
       "  <tbody>\n",
       "    <tr>\n",
       "      <th>0</th>\n",
       "      <td>52664</td>\n",
       "      <td>a</td>\n",
       "      <td>3942.0</td>\n",
       "      <td>2.0</td>\n",
       "      <td>155623</td>\n",
       "      <td>7855.0</td>\n",
       "      <td>42.0</td>\n",
       "    </tr>\n",
       "    <tr>\n",
       "      <th>1</th>\n",
       "      <td>327662</td>\n",
       "      <td>a</td>\n",
       "      <td>26046.0</td>\n",
       "      <td>12.0</td>\n",
       "      <td>21781</td>\n",
       "      <td>55801.0</td>\n",
       "      <td>1175.0</td>\n",
       "    </tr>\n",
       "  </tbody>\n",
       "</table>\n",
       "</div>"
      ],
      "text/plain": [
       "       ID Tag  Reputation  Answers  Username    Views  Upvotes\n",
       "0   52664   a      3942.0      2.0    155623   7855.0     42.0\n",
       "1  327662   a     26046.0     12.0     21781  55801.0   1175.0"
      ]
     },
     "execution_count": 8,
     "metadata": {},
     "output_type": "execute_result"
    }
   ],
   "source": [
    "train.head(2)"
   ]
  },
  {
   "cell_type": "markdown",
   "metadata": {},
   "source": [
    "train[\"tag\"].unique().sum("
   ]
  },
  {
   "cell_type": "code",
   "execution_count": 10,
   "metadata": {},
   "outputs": [
    {
     "data": {
      "text/plain": [
       "c    72458\n",
       "j    72232\n",
       "p    43407\n",
       "i    32400\n",
       "a    31695\n",
       "s    23323\n",
       "h    20564\n",
       "o    14546\n",
       "r    12442\n",
       "x     6978\n",
       "Name: Tag, dtype: int64"
      ]
     },
     "execution_count": 10,
     "metadata": {},
     "output_type": "execute_result"
    }
   ],
   "source": [
    "train[\"Tag\"].value_counts()"
   ]
  },
  {
   "cell_type": "code",
   "execution_count": 11,
   "metadata": {
    "scrolled": true
   },
   "outputs": [
    {
     "data": {
      "text/plain": [
       "array(['a', 'c', 'r', 'j', 'p', 's', 'h', 'o', 'i', 'x'], dtype=object)"
      ]
     },
     "execution_count": 11,
     "metadata": {},
     "output_type": "execute_result"
    }
   ],
   "source": [
    "train[\"Tag\"].unique()"
   ]
  },
  {
   "cell_type": "code",
   "execution_count": 79,
   "metadata": {},
   "outputs": [
    {
     "ename": "ValueError",
     "evalue": "Cannot convert non-finite values (NA or inf) to integer",
     "output_type": "error",
     "traceback": [
      "\u001b[1;31m---------------------------------------------------------------------------\u001b[0m",
      "\u001b[1;31mValueError\u001b[0m                                Traceback (most recent call last)",
      "\u001b[1;32m<ipython-input-79-0bc66d678314>\u001b[0m in \u001b[0;36m<module>\u001b[1;34m()\u001b[0m\n\u001b[0;32m      1\u001b[0m \u001b[1;32mfor\u001b[0m \u001b[0mdataset\u001b[0m \u001b[1;32min\u001b[0m \u001b[0mcombine\u001b[0m\u001b[1;33m:\u001b[0m\u001b[1;33m\u001b[0m\u001b[0m\n\u001b[1;32m----> 2\u001b[1;33m     \u001b[0mdataset\u001b[0m\u001b[1;33m[\u001b[0m\u001b[1;34m'Tag'\u001b[0m\u001b[1;33m]\u001b[0m \u001b[1;33m=\u001b[0m \u001b[0mdataset\u001b[0m\u001b[1;33m[\u001b[0m\u001b[1;34m'Tag'\u001b[0m\u001b[1;33m]\u001b[0m\u001b[1;33m.\u001b[0m\u001b[0mmap\u001b[0m\u001b[1;33m(\u001b[0m \u001b[1;33m{\u001b[0m\u001b[1;34m'a'\u001b[0m\u001b[1;33m:\u001b[0m \u001b[1;36m1\u001b[0m\u001b[1;33m,\u001b[0m \u001b[1;34m'c'\u001b[0m\u001b[1;33m:\u001b[0m \u001b[1;36m2\u001b[0m\u001b[1;33m,\u001b[0m\u001b[1;34m'r'\u001b[0m\u001b[1;33m:\u001b[0m\u001b[1;36m3\u001b[0m\u001b[1;33m,\u001b[0m\u001b[1;34m'j'\u001b[0m\u001b[1;33m:\u001b[0m\u001b[1;36m4\u001b[0m\u001b[1;33m,\u001b[0m\u001b[1;34m'p'\u001b[0m\u001b[1;33m:\u001b[0m\u001b[1;36m5\u001b[0m\u001b[1;33m,\u001b[0m\u001b[1;34m's'\u001b[0m\u001b[1;33m:\u001b[0m\u001b[1;36m6\u001b[0m\u001b[1;33m,\u001b[0m\u001b[1;34m'h'\u001b[0m\u001b[1;33m:\u001b[0m\u001b[1;36m7\u001b[0m\u001b[1;33m,\u001b[0m\u001b[1;34m'o'\u001b[0m\u001b[1;33m:\u001b[0m\u001b[1;36m8\u001b[0m\u001b[1;33m,\u001b[0m\u001b[1;34m'i'\u001b[0m\u001b[1;33m:\u001b[0m\u001b[1;36m9\u001b[0m\u001b[1;33m,\u001b[0m\u001b[1;34m'x'\u001b[0m\u001b[1;33m:\u001b[0m\u001b[1;36m10\u001b[0m\u001b[1;33m}\u001b[0m \u001b[1;33m)\u001b[0m\u001b[1;33m.\u001b[0m\u001b[0mastype\u001b[0m\u001b[1;33m(\u001b[0m\u001b[0mint\u001b[0m\u001b[1;33m)\u001b[0m\u001b[1;33m\u001b[0m\u001b[0m\n\u001b[0m",
      "\u001b[1;32m~\\Anaconda3\\lib\\site-packages\\pandas\\util\\_decorators.py\u001b[0m in \u001b[0;36mwrapper\u001b[1;34m(*args, **kwargs)\u001b[0m\n\u001b[0;32m    176\u001b[0m                 \u001b[1;32melse\u001b[0m\u001b[1;33m:\u001b[0m\u001b[1;33m\u001b[0m\u001b[0m\n\u001b[0;32m    177\u001b[0m                     \u001b[0mkwargs\u001b[0m\u001b[1;33m[\u001b[0m\u001b[0mnew_arg_name\u001b[0m\u001b[1;33m]\u001b[0m \u001b[1;33m=\u001b[0m \u001b[0mnew_arg_value\u001b[0m\u001b[1;33m\u001b[0m\u001b[0m\n\u001b[1;32m--> 178\u001b[1;33m             \u001b[1;32mreturn\u001b[0m \u001b[0mfunc\u001b[0m\u001b[1;33m(\u001b[0m\u001b[1;33m*\u001b[0m\u001b[0margs\u001b[0m\u001b[1;33m,\u001b[0m \u001b[1;33m**\u001b[0m\u001b[0mkwargs\u001b[0m\u001b[1;33m)\u001b[0m\u001b[1;33m\u001b[0m\u001b[0m\n\u001b[0m\u001b[0;32m    179\u001b[0m         \u001b[1;32mreturn\u001b[0m \u001b[0mwrapper\u001b[0m\u001b[1;33m\u001b[0m\u001b[0m\n\u001b[0;32m    180\u001b[0m     \u001b[1;32mreturn\u001b[0m \u001b[0m_deprecate_kwarg\u001b[0m\u001b[1;33m\u001b[0m\u001b[0m\n",
      "\u001b[1;32m~\\Anaconda3\\lib\\site-packages\\pandas\\core\\generic.py\u001b[0m in \u001b[0;36mastype\u001b[1;34m(self, dtype, copy, errors, **kwargs)\u001b[0m\n\u001b[0;32m   4999\u001b[0m             \u001b[1;31m# else, only a single dtype is given\u001b[0m\u001b[1;33m\u001b[0m\u001b[1;33m\u001b[0m\u001b[0m\n\u001b[0;32m   5000\u001b[0m             new_data = self._data.astype(dtype=dtype, copy=copy, errors=errors,\n\u001b[1;32m-> 5001\u001b[1;33m                                          **kwargs)\n\u001b[0m\u001b[0;32m   5002\u001b[0m             \u001b[1;32mreturn\u001b[0m \u001b[0mself\u001b[0m\u001b[1;33m.\u001b[0m\u001b[0m_constructor\u001b[0m\u001b[1;33m(\u001b[0m\u001b[0mnew_data\u001b[0m\u001b[1;33m)\u001b[0m\u001b[1;33m.\u001b[0m\u001b[0m__finalize__\u001b[0m\u001b[1;33m(\u001b[0m\u001b[0mself\u001b[0m\u001b[1;33m)\u001b[0m\u001b[1;33m\u001b[0m\u001b[0m\n\u001b[0;32m   5003\u001b[0m \u001b[1;33m\u001b[0m\u001b[0m\n",
      "\u001b[1;32m~\\Anaconda3\\lib\\site-packages\\pandas\\core\\internals.py\u001b[0m in \u001b[0;36mastype\u001b[1;34m(self, dtype, **kwargs)\u001b[0m\n\u001b[0;32m   3712\u001b[0m \u001b[1;33m\u001b[0m\u001b[0m\n\u001b[0;32m   3713\u001b[0m     \u001b[1;32mdef\u001b[0m \u001b[0mastype\u001b[0m\u001b[1;33m(\u001b[0m\u001b[0mself\u001b[0m\u001b[1;33m,\u001b[0m \u001b[0mdtype\u001b[0m\u001b[1;33m,\u001b[0m \u001b[1;33m**\u001b[0m\u001b[0mkwargs\u001b[0m\u001b[1;33m)\u001b[0m\u001b[1;33m:\u001b[0m\u001b[1;33m\u001b[0m\u001b[0m\n\u001b[1;32m-> 3714\u001b[1;33m         \u001b[1;32mreturn\u001b[0m \u001b[0mself\u001b[0m\u001b[1;33m.\u001b[0m\u001b[0mapply\u001b[0m\u001b[1;33m(\u001b[0m\u001b[1;34m'astype'\u001b[0m\u001b[1;33m,\u001b[0m \u001b[0mdtype\u001b[0m\u001b[1;33m=\u001b[0m\u001b[0mdtype\u001b[0m\u001b[1;33m,\u001b[0m \u001b[1;33m**\u001b[0m\u001b[0mkwargs\u001b[0m\u001b[1;33m)\u001b[0m\u001b[1;33m\u001b[0m\u001b[0m\n\u001b[0m\u001b[0;32m   3715\u001b[0m \u001b[1;33m\u001b[0m\u001b[0m\n\u001b[0;32m   3716\u001b[0m     \u001b[1;32mdef\u001b[0m \u001b[0mconvert\u001b[0m\u001b[1;33m(\u001b[0m\u001b[0mself\u001b[0m\u001b[1;33m,\u001b[0m \u001b[1;33m**\u001b[0m\u001b[0mkwargs\u001b[0m\u001b[1;33m)\u001b[0m\u001b[1;33m:\u001b[0m\u001b[1;33m\u001b[0m\u001b[0m\n",
      "\u001b[1;32m~\\Anaconda3\\lib\\site-packages\\pandas\\core\\internals.py\u001b[0m in \u001b[0;36mapply\u001b[1;34m(self, f, axes, filter, do_integrity_check, consolidate, **kwargs)\u001b[0m\n\u001b[0;32m   3579\u001b[0m \u001b[1;33m\u001b[0m\u001b[0m\n\u001b[0;32m   3580\u001b[0m             \u001b[0mkwargs\u001b[0m\u001b[1;33m[\u001b[0m\u001b[1;34m'mgr'\u001b[0m\u001b[1;33m]\u001b[0m \u001b[1;33m=\u001b[0m \u001b[0mself\u001b[0m\u001b[1;33m\u001b[0m\u001b[0m\n\u001b[1;32m-> 3581\u001b[1;33m             \u001b[0mapplied\u001b[0m \u001b[1;33m=\u001b[0m \u001b[0mgetattr\u001b[0m\u001b[1;33m(\u001b[0m\u001b[0mb\u001b[0m\u001b[1;33m,\u001b[0m \u001b[0mf\u001b[0m\u001b[1;33m)\u001b[0m\u001b[1;33m(\u001b[0m\u001b[1;33m**\u001b[0m\u001b[0mkwargs\u001b[0m\u001b[1;33m)\u001b[0m\u001b[1;33m\u001b[0m\u001b[0m\n\u001b[0m\u001b[0;32m   3582\u001b[0m             \u001b[0mresult_blocks\u001b[0m \u001b[1;33m=\u001b[0m \u001b[0m_extend_blocks\u001b[0m\u001b[1;33m(\u001b[0m\u001b[0mapplied\u001b[0m\u001b[1;33m,\u001b[0m \u001b[0mresult_blocks\u001b[0m\u001b[1;33m)\u001b[0m\u001b[1;33m\u001b[0m\u001b[0m\n\u001b[0;32m   3583\u001b[0m \u001b[1;33m\u001b[0m\u001b[0m\n",
      "\u001b[1;32m~\\Anaconda3\\lib\\site-packages\\pandas\\core\\internals.py\u001b[0m in \u001b[0;36mastype\u001b[1;34m(self, dtype, copy, errors, values, **kwargs)\u001b[0m\n\u001b[0;32m    573\u001b[0m     \u001b[1;32mdef\u001b[0m \u001b[0mastype\u001b[0m\u001b[1;33m(\u001b[0m\u001b[0mself\u001b[0m\u001b[1;33m,\u001b[0m \u001b[0mdtype\u001b[0m\u001b[1;33m,\u001b[0m \u001b[0mcopy\u001b[0m\u001b[1;33m=\u001b[0m\u001b[1;32mFalse\u001b[0m\u001b[1;33m,\u001b[0m \u001b[0merrors\u001b[0m\u001b[1;33m=\u001b[0m\u001b[1;34m'raise'\u001b[0m\u001b[1;33m,\u001b[0m \u001b[0mvalues\u001b[0m\u001b[1;33m=\u001b[0m\u001b[1;32mNone\u001b[0m\u001b[1;33m,\u001b[0m \u001b[1;33m**\u001b[0m\u001b[0mkwargs\u001b[0m\u001b[1;33m)\u001b[0m\u001b[1;33m:\u001b[0m\u001b[1;33m\u001b[0m\u001b[0m\n\u001b[0;32m    574\u001b[0m         return self._astype(dtype, copy=copy, errors=errors, values=values,\n\u001b[1;32m--> 575\u001b[1;33m                             **kwargs)\n\u001b[0m\u001b[0;32m    576\u001b[0m \u001b[1;33m\u001b[0m\u001b[0m\n\u001b[0;32m    577\u001b[0m     def _astype(self, dtype, copy=False, errors='raise', values=None,\n",
      "\u001b[1;32m~\\Anaconda3\\lib\\site-packages\\pandas\\core\\internals.py\u001b[0m in \u001b[0;36m_astype\u001b[1;34m(self, dtype, copy, errors, values, klass, mgr, **kwargs)\u001b[0m\n\u001b[0;32m    662\u001b[0m \u001b[1;33m\u001b[0m\u001b[0m\n\u001b[0;32m    663\u001b[0m                 \u001b[1;31m# _astype_nansafe works fine with 1-d only\u001b[0m\u001b[1;33m\u001b[0m\u001b[1;33m\u001b[0m\u001b[0m\n\u001b[1;32m--> 664\u001b[1;33m                 \u001b[0mvalues\u001b[0m \u001b[1;33m=\u001b[0m \u001b[0mastype_nansafe\u001b[0m\u001b[1;33m(\u001b[0m\u001b[0mvalues\u001b[0m\u001b[1;33m.\u001b[0m\u001b[0mravel\u001b[0m\u001b[1;33m(\u001b[0m\u001b[1;33m)\u001b[0m\u001b[1;33m,\u001b[0m \u001b[0mdtype\u001b[0m\u001b[1;33m,\u001b[0m \u001b[0mcopy\u001b[0m\u001b[1;33m=\u001b[0m\u001b[1;32mTrue\u001b[0m\u001b[1;33m)\u001b[0m\u001b[1;33m\u001b[0m\u001b[0m\n\u001b[0m\u001b[0;32m    665\u001b[0m                 \u001b[0mvalues\u001b[0m \u001b[1;33m=\u001b[0m \u001b[0mvalues\u001b[0m\u001b[1;33m.\u001b[0m\u001b[0mreshape\u001b[0m\u001b[1;33m(\u001b[0m\u001b[0mself\u001b[0m\u001b[1;33m.\u001b[0m\u001b[0mshape\u001b[0m\u001b[1;33m)\u001b[0m\u001b[1;33m\u001b[0m\u001b[0m\n\u001b[0;32m    666\u001b[0m \u001b[1;33m\u001b[0m\u001b[0m\n",
      "\u001b[1;32m~\\Anaconda3\\lib\\site-packages\\pandas\\core\\dtypes\\cast.py\u001b[0m in \u001b[0;36mastype_nansafe\u001b[1;34m(arr, dtype, copy)\u001b[0m\n\u001b[0;32m    700\u001b[0m \u001b[1;33m\u001b[0m\u001b[0m\n\u001b[0;32m    701\u001b[0m         \u001b[1;32mif\u001b[0m \u001b[1;32mnot\u001b[0m \u001b[0mnp\u001b[0m\u001b[1;33m.\u001b[0m\u001b[0misfinite\u001b[0m\u001b[1;33m(\u001b[0m\u001b[0marr\u001b[0m\u001b[1;33m)\u001b[0m\u001b[1;33m.\u001b[0m\u001b[0mall\u001b[0m\u001b[1;33m(\u001b[0m\u001b[1;33m)\u001b[0m\u001b[1;33m:\u001b[0m\u001b[1;33m\u001b[0m\u001b[0m\n\u001b[1;32m--> 702\u001b[1;33m             raise ValueError('Cannot convert non-finite values (NA or inf) to '\n\u001b[0m\u001b[0;32m    703\u001b[0m                              'integer')\n\u001b[0;32m    704\u001b[0m \u001b[1;33m\u001b[0m\u001b[0m\n",
      "\u001b[1;31mValueError\u001b[0m: Cannot convert non-finite values (NA or inf) to integer"
     ]
    }
   ],
   "source": [
    "for dataset in combine:\n",
    "    dataset['Tag'] = dataset['Tag'].map( {'a': 1, 'c': 2,'r':3,'j':4,'p':5,'s':6,'h':7,'o':8,'i':9,'x':10} ).astype(int)\n"
   ]
  },
  {
   "cell_type": "code",
   "execution_count": 13,
   "metadata": {},
   "outputs": [
    {
     "data": {
      "text/plain": [
       "array([ 1,  2,  9, 10,  6,  5,  8,  4,  7,  3], dtype=int64)"
      ]
     },
     "execution_count": 13,
     "metadata": {},
     "output_type": "execute_result"
    }
   ],
   "source": [
    "test[\"Tag\"].unique()"
   ]
  },
  {
   "cell_type": "code",
   "execution_count": 14,
   "metadata": {},
   "outputs": [
    {
     "data": {
      "text/plain": [
       "array([[ 1.        , -0.01617443],\n",
       "       [-0.01617443,  1.        ]])"
      ]
     },
     "execution_count": 14,
     "metadata": {},
     "output_type": "execute_result"
    }
   ],
   "source": [
    "np.corrcoef(train['Tag'], train['Upvotes'])"
   ]
  },
  {
   "cell_type": "code",
   "execution_count": 15,
   "metadata": {},
   "outputs": [
    {
     "data": {
      "text/plain": [
       "array([[1.        , 0.20203317],\n",
       "       [0.20203317, 1.        ]])"
      ]
     },
     "execution_count": 15,
     "metadata": {},
     "output_type": "execute_result"
    }
   ],
   "source": [
    "np.corrcoef(train['Answers'], train['Upvotes'])"
   ]
  },
  {
   "cell_type": "code",
   "execution_count": 16,
   "metadata": {
    "scrolled": true
   },
   "outputs": [
    {
     "data": {
      "text/plain": [
       "array([[1.        , 0.26671036],\n",
       "       [0.26671036, 1.        ]])"
      ]
     },
     "execution_count": 16,
     "metadata": {},
     "output_type": "execute_result"
    }
   ],
   "source": [
    "np.corrcoef(train['Reputation'], train['Upvotes'])"
   ]
  },
  {
   "cell_type": "code",
   "execution_count": 17,
   "metadata": {},
   "outputs": [
    {
     "data": {
      "text/plain": [
       "array([[1.        , 0.00632819],\n",
       "       [0.00632819, 1.        ]])"
      ]
     },
     "execution_count": 17,
     "metadata": {},
     "output_type": "execute_result"
    }
   ],
   "source": [
    "np.corrcoef(train['ID'], train['Upvotes'])"
   ]
  },
  {
   "cell_type": "code",
   "execution_count": 18,
   "metadata": {},
   "outputs": [
    {
     "data": {
      "text/plain": [
       "array([[1.        , 0.43733558],\n",
       "       [0.43733558, 1.        ]])"
      ]
     },
     "execution_count": 18,
     "metadata": {},
     "output_type": "execute_result"
    }
   ],
   "source": [
    "np.corrcoef(train['Views'], train['Upvotes'])"
   ]
  },
  {
   "cell_type": "code",
   "execution_count": 19,
   "metadata": {
    "scrolled": true
   },
   "outputs": [
    {
     "data": {
      "text/plain": [
       "<matplotlib.collections.PathCollection at 0x1ac82571cc0>"
      ]
     },
     "execution_count": 19,
     "metadata": {},
     "output_type": "execute_result"
    },
    {
     "data": {
      "image/png": "[encoded data removed]",
      "text/plain": [
       "<matplotlib.figure.Figure at 0x1ac81f1b470>"
      ]
     },
     "metadata": {},
     "output_type": "display_data"
    }
   ],
   "source": [
    "plt.scatter(train['Upvotes'],train['Views']*train['Reputation'] ,color = 'red')"
   ]
  },
  {
   "cell_type": "code",
   "execution_count": null,
   "metadata": {},
   "outputs": [],
   "source": [
    "plt.scatter(train['Upvotes'],train['Repvi'] ,color = 'red')"
   ]
  },
  {
   "cell_type": "code",
   "execution_count": null,
   "metadata": {
    "scrolled": true
   },
   "outputs": [],
   "source": [
    "plt.scatter(train['Upvotes'],train['Repans'] ,color = 'red')"
   ]
  },
  {
   "cell_type": "code",
   "execution_count": null,
   "metadata": {},
   "outputs": [],
   "source": [
    "train['Repans'] = train['Reputation'] * train['Answers']"
   ]
  },
  {
   "cell_type": "code",
   "execution_count": null,
   "metadata": {
    "scrolled": false
   },
   "outputs": [],
   "source": [
    "plt.scatter(train['Upvotes'],train['ID']*train['Answers'] ,color = 'red')"
   ]
  },
  {
   "cell_type": "code",
   "execution_count": null,
   "metadata": {},
   "outputs": [],
   "source": [
    "plt.scatter(train['Upvotes'],np.log(train['Views']*train['Answers']) ,color = 'red')"
   ]
  },
  {
   "cell_type": "code",
   "execution_count": null,
   "metadata": {},
   "outputs": [],
   "source": [
    "plt.scatter(train['Upvotes'],train['ID']*train['Views'] ,color = 'red')"
   ]
  },
  {
   "cell_type": "code",
   "execution_count": 22,
   "metadata": {},
   "outputs": [
    {
     "data": {
      "text/plain": [
       "<matplotlib.collections.PathCollection at 0x1ac83453a58>"
      ]
     },
     "execution_count": 22,
     "metadata": {},
     "output_type": "execute_result"
    },
    {
     "data": {
      "image/png": "[encoded data removed]",
      "text/plain": [
       "<matplotlib.figure.Figure at 0x1ac82ea3ba8>"
      ]
     },
     "metadata": {},
     "output_type": "display_data"
    }
   ],
   "source": [
    "plt.scatter(train['Upvotes'],train['Views'] ,color = 'red')"
   ]
  },
  {
   "cell_type": "code",
   "execution_count": 23,
   "metadata": {},
   "outputs": [
    {
     "data": {
      "text/html": [
       "<div>\n",
       "<style scoped>\n",
       "    .dataframe tbody tr th:only-of-type {\n",
       "        vertical-align: middle;\n",
       "    }\n",
       "\n",
       "    .dataframe tbody tr th {\n",
       "        vertical-align: top;\n",
       "    }\n",
       "\n",
       "    .dataframe thead th {\n",
       "        text-align: right;\n",
       "    }\n",
       "</style>\n",
       "<table border=\"1\" class=\"dataframe\">\n",
       "  <thead>\n",
       "    <tr style=\"text-align: right;\">\n",
       "      <th></th>\n",
       "      <th>ID</th>\n",
       "      <th>Tag</th>\n",
       "      <th>Reputation</th>\n",
       "      <th>Answers</th>\n",
       "      <th>Username</th>\n",
       "      <th>Views</th>\n",
       "      <th>Upvotes</th>\n",
       "    </tr>\n",
       "  </thead>\n",
       "  <tbody>\n",
       "    <tr>\n",
       "      <th>count</th>\n",
       "      <td>330045.000000</td>\n",
       "      <td>330045.000000</td>\n",
       "      <td>3.300450e+05</td>\n",
       "      <td>330045.000000</td>\n",
       "      <td>330045.000000</td>\n",
       "      <td>3.300450e+05</td>\n",
       "      <td>330045.000000</td>\n",
       "    </tr>\n",
       "    <tr>\n",
       "      <th>mean</th>\n",
       "      <td>235748.682789</td>\n",
       "      <td>4.488885</td>\n",
       "      <td>7.773147e+03</td>\n",
       "      <td>3.917672</td>\n",
       "      <td>81442.888803</td>\n",
       "      <td>2.964507e+04</td>\n",
       "      <td>337.505358</td>\n",
       "    </tr>\n",
       "    <tr>\n",
       "      <th>std</th>\n",
       "      <td>136039.418471</td>\n",
       "      <td>2.537047</td>\n",
       "      <td>2.706141e+04</td>\n",
       "      <td>3.579515</td>\n",
       "      <td>49215.100730</td>\n",
       "      <td>8.095646e+04</td>\n",
       "      <td>3592.441135</td>\n",
       "    </tr>\n",
       "    <tr>\n",
       "      <th>min</th>\n",
       "      <td>1.000000</td>\n",
       "      <td>1.000000</td>\n",
       "      <td>0.000000e+00</td>\n",
       "      <td>0.000000</td>\n",
       "      <td>0.000000</td>\n",
       "      <td>9.000000e+00</td>\n",
       "      <td>0.000000</td>\n",
       "    </tr>\n",
       "    <tr>\n",
       "      <th>25%</th>\n",
       "      <td>117909.000000</td>\n",
       "      <td>2.000000</td>\n",
       "      <td>2.820000e+02</td>\n",
       "      <td>2.000000</td>\n",
       "      <td>39808.000000</td>\n",
       "      <td>2.594000e+03</td>\n",
       "      <td>8.000000</td>\n",
       "    </tr>\n",
       "    <tr>\n",
       "      <th>50%</th>\n",
       "      <td>235699.000000</td>\n",
       "      <td>4.000000</td>\n",
       "      <td>1.236000e+03</td>\n",
       "      <td>3.000000</td>\n",
       "      <td>79010.000000</td>\n",
       "      <td>8.954000e+03</td>\n",
       "      <td>28.000000</td>\n",
       "    </tr>\n",
       "    <tr>\n",
       "      <th>75%</th>\n",
       "      <td>353620.000000</td>\n",
       "      <td>6.000000</td>\n",
       "      <td>5.118000e+03</td>\n",
       "      <td>5.000000</td>\n",
       "      <td>122559.000000</td>\n",
       "      <td>2.687000e+04</td>\n",
       "      <td>107.000000</td>\n",
       "    </tr>\n",
       "    <tr>\n",
       "      <th>max</th>\n",
       "      <td>471493.000000</td>\n",
       "      <td>10.000000</td>\n",
       "      <td>1.042428e+06</td>\n",
       "      <td>76.000000</td>\n",
       "      <td>175738.000000</td>\n",
       "      <td>5.231058e+06</td>\n",
       "      <td>615278.000000</td>\n",
       "    </tr>\n",
       "  </tbody>\n",
       "</table>\n",
       "</div>"
      ],
      "text/plain": [
       "                  ID            Tag    Reputation        Answers  \\\n",
       "count  330045.000000  330045.000000  3.300450e+05  330045.000000   \n",
       "mean   235748.682789       4.488885  7.773147e+03       3.917672   \n",
       "std    136039.418471       2.537047  2.706141e+04       3.579515   \n",
       "min         1.000000       1.000000  0.000000e+00       0.000000   \n",
       "25%    117909.000000       2.000000  2.820000e+02       2.000000   \n",
       "50%    235699.000000       4.000000  1.236000e+03       3.000000   \n",
       "75%    353620.000000       6.000000  5.118000e+03       5.000000   \n",
       "max    471493.000000      10.000000  1.042428e+06      76.000000   \n",
       "\n",
       "            Username         Views        Upvotes  \n",
       "count  330045.000000  3.300450e+05  330045.000000  \n",
       "mean    81442.888803  2.964507e+04     337.505358  \n",
       "std     49215.100730  8.095646e+04    3592.441135  \n",
       "min         0.000000  9.000000e+00       0.000000  \n",
       "25%     39808.000000  2.594000e+03       8.000000  \n",
       "50%     79010.000000  8.954000e+03      28.000000  \n",
       "75%    122559.000000  2.687000e+04     107.000000  \n",
       "max    175738.000000  5.231058e+06  615278.000000  "
      ]
     },
     "execution_count": 23,
     "metadata": {},
     "output_type": "execute_result"
    }
   ],
   "source": [
    "train.describe()"
   ]
  },
  {
   "cell_type": "code",
   "execution_count": 24,
   "metadata": {},
   "outputs": [],
   "source": [
    "X = train[:-1]"
   ]
  },
  {
   "cell_type": "code",
   "execution_count": 25,
   "metadata": {},
   "outputs": [
    {
     "data": {
      "text/html": [
       "<div>\n",
       "<style scoped>\n",
       "    .dataframe tbody tr th:only-of-type {\n",
       "        vertical-align: middle;\n",
       "    }\n",
       "\n",
       "    .dataframe tbody tr th {\n",
       "        vertical-align: top;\n",
       "    }\n",
       "\n",
       "    .dataframe thead th {\n",
       "        text-align: right;\n",
       "    }\n",
       "</style>\n",
       "<table border=\"1\" class=\"dataframe\">\n",
       "  <thead>\n",
       "    <tr style=\"text-align: right;\">\n",
       "      <th></th>\n",
       "      <th>ID</th>\n",
       "      <th>Tag</th>\n",
       "      <th>Reputation</th>\n",
       "      <th>Answers</th>\n",
       "      <th>Username</th>\n",
       "      <th>Views</th>\n",
       "      <th>Upvotes</th>\n",
       "    </tr>\n",
       "  </thead>\n",
       "  <tbody>\n",
       "    <tr>\n",
       "      <th>0</th>\n",
       "      <td>52664</td>\n",
       "      <td>1</td>\n",
       "      <td>3942.0</td>\n",
       "      <td>2.0</td>\n",
       "      <td>155623</td>\n",
       "      <td>7855.0</td>\n",
       "      <td>42.0</td>\n",
       "    </tr>\n",
       "    <tr>\n",
       "      <th>1</th>\n",
       "      <td>327662</td>\n",
       "      <td>1</td>\n",
       "      <td>26046.0</td>\n",
       "      <td>12.0</td>\n",
       "      <td>21781</td>\n",
       "      <td>55801.0</td>\n",
       "      <td>1175.0</td>\n",
       "    </tr>\n",
       "  </tbody>\n",
       "</table>\n",
       "</div>"
      ],
      "text/plain": [
       "       ID  Tag  Reputation  Answers  Username    Views  Upvotes\n",
       "0   52664    1      3942.0      2.0    155623   7855.0     42.0\n",
       "1  327662    1     26046.0     12.0     21781  55801.0   1175.0"
      ]
     },
     "execution_count": 25,
     "metadata": {},
     "output_type": "execute_result"
    }
   ],
   "source": [
    "X.head(2)"
   ]
  },
  {
   "cell_type": "code",
   "execution_count": 26,
   "metadata": {},
   "outputs": [
    {
     "data": {
      "text/html": [
       "<div>\n",
       "<style scoped>\n",
       "    .dataframe tbody tr th:only-of-type {\n",
       "        vertical-align: middle;\n",
       "    }\n",
       "\n",
       "    .dataframe tbody tr th {\n",
       "        vertical-align: top;\n",
       "    }\n",
       "\n",
       "    .dataframe thead th {\n",
       "        text-align: right;\n",
       "    }\n",
       "</style>\n",
       "<table border=\"1\" class=\"dataframe\">\n",
       "  <thead>\n",
       "    <tr style=\"text-align: right;\">\n",
       "      <th></th>\n",
       "      <th>ID</th>\n",
       "      <th>Tag</th>\n",
       "      <th>Reputation</th>\n",
       "      <th>Answers</th>\n",
       "      <th>Username</th>\n",
       "      <th>Views</th>\n",
       "      <th>Upvotes</th>\n",
       "    </tr>\n",
       "  </thead>\n",
       "  <tbody>\n",
       "    <tr>\n",
       "      <th>0</th>\n",
       "      <td>52664</td>\n",
       "      <td>1</td>\n",
       "      <td>3942.0</td>\n",
       "      <td>2.0</td>\n",
       "      <td>155623</td>\n",
       "      <td>7855.0</td>\n",
       "      <td>42.0</td>\n",
       "    </tr>\n",
       "    <tr>\n",
       "      <th>1</th>\n",
       "      <td>327662</td>\n",
       "      <td>1</td>\n",
       "      <td>26046.0</td>\n",
       "      <td>12.0</td>\n",
       "      <td>21781</td>\n",
       "      <td>55801.0</td>\n",
       "      <td>1175.0</td>\n",
       "    </tr>\n",
       "    <tr>\n",
       "      <th>2</th>\n",
       "      <td>468453</td>\n",
       "      <td>2</td>\n",
       "      <td>1358.0</td>\n",
       "      <td>4.0</td>\n",
       "      <td>56177</td>\n",
       "      <td>8067.0</td>\n",
       "      <td>60.0</td>\n",
       "    </tr>\n",
       "    <tr>\n",
       "      <th>3</th>\n",
       "      <td>96996</td>\n",
       "      <td>1</td>\n",
       "      <td>264.0</td>\n",
       "      <td>3.0</td>\n",
       "      <td>168793</td>\n",
       "      <td>27064.0</td>\n",
       "      <td>9.0</td>\n",
       "    </tr>\n",
       "    <tr>\n",
       "      <th>4</th>\n",
       "      <td>131465</td>\n",
       "      <td>2</td>\n",
       "      <td>4271.0</td>\n",
       "      <td>4.0</td>\n",
       "      <td>112223</td>\n",
       "      <td>13986.0</td>\n",
       "      <td>83.0</td>\n",
       "    </tr>\n",
       "  </tbody>\n",
       "</table>\n",
       "</div>"
      ],
      "text/plain": [
       "       ID  Tag  Reputation  Answers  Username    Views  Upvotes\n",
       "0   52664    1      3942.0      2.0    155623   7855.0     42.0\n",
       "1  327662    1     26046.0     12.0     21781  55801.0   1175.0\n",
       "2  468453    2      1358.0      4.0     56177   8067.0     60.0\n",
       "3   96996    1       264.0      3.0    168793  27064.0      9.0\n",
       "4  131465    2      4271.0      4.0    112223  13986.0     83.0"
      ]
     },
     "execution_count": 26,
     "metadata": {},
     "output_type": "execute_result"
    }
   ],
   "source": [
    "train.head()"
   ]
  },
  {
   "cell_type": "code",
   "execution_count": 27,
   "metadata": {},
   "outputs": [],
   "source": [
    "X_train = train.drop(\"Upvotes\", axis=1)\n",
    "Y_train = train[\"Upvotes\"]\n",
    "X_test  = test.drop(\"ID\", axis=1)"
   ]
  },
  {
   "cell_type": "code",
   "execution_count": 28,
   "metadata": {},
   "outputs": [
    {
     "data": {
      "text/plain": [
       "((330045, 6), (330045,), (141448, 6))"
      ]
     },
     "execution_count": 28,
     "metadata": {},
     "output_type": "execute_result"
    }
   ],
   "source": [
    "X_train.shape, Y_train.shape, test.shape"
   ]
  },
  {
   "cell_type": "code",
   "execution_count": 29,
   "metadata": {},
   "outputs": [
    {
     "data": {
      "text/plain": [
       "RandomForestRegressor(bootstrap=True, criterion='mse', max_depth=None,\n",
       "           max_features='auto', max_leaf_nodes=None,\n",
       "           min_impurity_decrease=0.0, min_impurity_split=None,\n",
       "           min_samples_leaf=1, min_samples_split=2,\n",
       "           min_weight_fraction_leaf=0.0, n_estimators=10, n_jobs=1,\n",
       "           oob_score=False, random_state=0, verbose=0, warm_start=False)"
      ]
     },
     "execution_count": 29,
     "metadata": {},
     "output_type": "execute_result"
    }
   ],
   "source": [
    "from sklearn.ensemble import RandomForestRegressor\n",
    "regressor = RandomForestRegressor(n_estimators = 10, random_state = 0)\n",
    "regressor.fit(X_train,Y_train)"
   ]
  },
  {
   "cell_type": "code",
   "execution_count": 30,
   "metadata": {},
   "outputs": [
    {
     "data": {
      "text/plain": [
       "(141448, 5)"
      ]
     },
     "execution_count": 30,
     "metadata": {},
     "output_type": "execute_result"
    }
   ],
   "source": [
    "X_test.shape"
   ]
  },
  {
   "cell_type": "code",
   "execution_count": 31,
   "metadata": {},
   "outputs": [],
   "source": [
    "y_pred = regressor.predict(test)"
   ]
  },
  {
   "cell_type": "code",
   "execution_count": 32,
   "metadata": {},
   "outputs": [
    {
     "data": {
      "text/plain": [
       "97.74"
      ]
     },
     "execution_count": 32,
     "metadata": {},
     "output_type": "execute_result"
    }
   ],
   "source": [
    "acc_log = round(regressor.score(X_train, Y_train) * 100, 2)\n",
    "acc_log"
   ]
  },
  {
   "cell_type": "code",
   "execution_count": 33,
   "metadata": {},
   "outputs": [],
   "source": [
    "submission = pd.DataFrame({\n",
    "        \"ID\": test[\"ID\"],\n",
    "        \"Upvotes\": y_pred\n",
    "    })\n",
    "submission.to_csv('C:/Users/Nikose/Desktop/enigma/sub.csv', index=False)"
   ]
  },
  {
   "cell_type": "code",
   "execution_count": 34,
   "metadata": {},
   "outputs": [
    {
     "data": {
      "text/plain": [
       "100.0"
      ]
     },
     "execution_count": 34,
     "metadata": {},
     "output_type": "execute_result"
    }
   ],
   "source": [
    "# Fitting Decision Tree Regression to the dataset\n",
    "from sklearn.tree import DecisionTreeRegressor\n",
    "regressord = DecisionTreeRegressor(random_state = 0)\n",
    "regressord.fit(X_train,Y_train)\n",
    "\n",
    "# Predicting a new result\n",
    "y_predd2 = regressord.predict(test)\n",
    "acc_logd = round(regressord.score(X_train, Y_train) * 100, 2)\n",
    "acc_logd"
   ]
  },
  {
   "cell_type": "code",
   "execution_count": 35,
   "metadata": {},
   "outputs": [],
   "source": [
    "submission = pd.DataFrame({\n",
    "        \"ID\": test[\"ID\"],\n",
    "        \"Upvotes\": y_predd2\n",
    "    })\n",
    "submission.to_csv('C:/Users/Nikose/Desktop/enigma/sub2.csv', index=False)"
   ]
  },
  {
   "cell_type": "code",
   "execution_count": 36,
   "metadata": {},
   "outputs": [
    {
     "data": {
      "text/plain": [
       "0.9773274863190203"
      ]
     },
     "execution_count": 36,
     "metadata": {},
     "output_type": "execute_result"
    }
   ],
   "source": [
    "from sklearn.ensemble import GradientBoostingRegressor\n",
    "gradient_boost = GradientBoostingRegressor(n_estimators=350)\n",
    "gradient_boost.fit(X_train,Y_train)\n",
    "\n",
    "Y_pred_g = gradient_boost.predict(test)\n",
    "\n",
    "gradient_boost.score(X_train,Y_train)"
   ]
  },
  {
   "cell_type": "code",
   "execution_count": 37,
   "metadata": {},
   "outputs": [],
   "source": [
    "submission = pd.DataFrame({\n",
    "        \"ID\": test[\"ID\"],\n",
    "        \"Upvotes\": Y_pred_g\n",
    "    })\n",
    "submission.to_csv('C:/Users/Nikose/Desktop/enigma/sub8.csv', index=False)"
   ]
  },
  {
   "cell_type": "code",
   "execution_count": 38,
   "metadata": {},
   "outputs": [
    {
     "data": {
      "text/plain": [
       "97.16"
      ]
     },
     "execution_count": 38,
     "metadata": {},
     "output_type": "execute_result"
    }
   ],
   "source": [
    "from sklearn.ensemble import RandomForestRegressor\n",
    "regressor = RandomForestRegressor(n_estimators = 7, random_state = 0)\n",
    "regressor.fit(X_train,Y_train)\n",
    "\n",
    "y_pred = regressor.predict(test)\n",
    "\n",
    "acc_log = round(regressor.score(X_train, Y_train) * 100, 2)\n",
    "acc_log"
   ]
  },
  {
   "cell_type": "code",
   "execution_count": 39,
   "metadata": {},
   "outputs": [],
   "source": [
    "submission = pd.DataFrame({\n",
    "        \"ID\": test[\"ID\"],\n",
    "        \"Upvotes\": y_pred\n",
    "    })\n",
    "submission.to_csv('C:/Users/Nikose/Desktop/enigma/sub15.csv', index=False)"
   ]
  },
  {
   "cell_type": "code",
   "execution_count": null,
   "metadata": {},
   "outputs": [],
   "source": []
  },
  {
   "cell_type": "code",
   "execution_count": 40,
   "metadata": {},
   "outputs": [],
   "source": [
    "for dataset in combine:\n",
    "    dataset['Repvi'] = dataset['Reputation'] * dataset['Views'] \n"
   ]
  },
  {
   "cell_type": "code",
   "execution_count": 41,
   "metadata": {},
   "outputs": [],
   "source": [
    "X_train['Repvi'] = X_train['Reputation'] * X_train['Views']\n",
    "test['Repvi'] = test['Reputation'] * test['Views']"
   ]
  },
  {
   "cell_type": "code",
   "execution_count": 42,
   "metadata": {},
   "outputs": [
    {
     "data": {
      "text/html": [
       "<div>\n",
       "<style scoped>\n",
       "    .dataframe tbody tr th:only-of-type {\n",
       "        vertical-align: middle;\n",
       "    }\n",
       "\n",
       "    .dataframe tbody tr th {\n",
       "        vertical-align: top;\n",
       "    }\n",
       "\n",
       "    .dataframe thead th {\n",
       "        text-align: right;\n",
       "    }\n",
       "</style>\n",
       "<table border=\"1\" class=\"dataframe\">\n",
       "  <thead>\n",
       "    <tr style=\"text-align: right;\">\n",
       "      <th></th>\n",
       "      <th>ID</th>\n",
       "      <th>Tag</th>\n",
       "      <th>Reputation</th>\n",
       "      <th>Answers</th>\n",
       "      <th>Username</th>\n",
       "      <th>Views</th>\n",
       "      <th>Repvi</th>\n",
       "    </tr>\n",
       "  </thead>\n",
       "  <tbody>\n",
       "    <tr>\n",
       "      <th>ID</th>\n",
       "      <td>1.000000</td>\n",
       "      <td>-0.027008</td>\n",
       "      <td>0.008546</td>\n",
       "      <td>0.017448</td>\n",
       "      <td>0.000628</td>\n",
       "      <td>0.017400</td>\n",
       "      <td>0.005733</td>\n",
       "    </tr>\n",
       "    <tr>\n",
       "      <th>Tag</th>\n",
       "      <td>-0.027008</td>\n",
       "      <td>1.000000</td>\n",
       "      <td>-0.039439</td>\n",
       "      <td>-0.056683</td>\n",
       "      <td>-0.007247</td>\n",
       "      <td>-0.045331</td>\n",
       "      <td>-0.015176</td>\n",
       "    </tr>\n",
       "    <tr>\n",
       "      <th>Reputation</th>\n",
       "      <td>0.008546</td>\n",
       "      <td>-0.039439</td>\n",
       "      <td>1.000000</td>\n",
       "      <td>0.066504</td>\n",
       "      <td>-0.041019</td>\n",
       "      <td>0.036455</td>\n",
       "      <td>0.274403</td>\n",
       "    </tr>\n",
       "    <tr>\n",
       "      <th>Answers</th>\n",
       "      <td>0.017448</td>\n",
       "      <td>-0.056683</td>\n",
       "      <td>0.066504</td>\n",
       "      <td>1.000000</td>\n",
       "      <td>-0.012197</td>\n",
       "      <td>0.498642</td>\n",
       "      <td>0.202277</td>\n",
       "    </tr>\n",
       "    <tr>\n",
       "      <th>Username</th>\n",
       "      <td>0.000628</td>\n",
       "      <td>-0.007247</td>\n",
       "      <td>-0.041019</td>\n",
       "      <td>-0.012197</td>\n",
       "      <td>1.000000</td>\n",
       "      <td>0.002306</td>\n",
       "      <td>-0.012182</td>\n",
       "    </tr>\n",
       "    <tr>\n",
       "      <th>Views</th>\n",
       "      <td>0.017400</td>\n",
       "      <td>-0.045331</td>\n",
       "      <td>0.036455</td>\n",
       "      <td>0.498642</td>\n",
       "      <td>0.002306</td>\n",
       "      <td>1.000000</td>\n",
       "      <td>0.436074</td>\n",
       "    </tr>\n",
       "    <tr>\n",
       "      <th>Repvi</th>\n",
       "      <td>0.005733</td>\n",
       "      <td>-0.015176</td>\n",
       "      <td>0.274403</td>\n",
       "      <td>0.202277</td>\n",
       "      <td>-0.012182</td>\n",
       "      <td>0.436074</td>\n",
       "      <td>1.000000</td>\n",
       "    </tr>\n",
       "  </tbody>\n",
       "</table>\n",
       "</div>"
      ],
      "text/plain": [
       "                  ID       Tag  Reputation   Answers  Username     Views  \\\n",
       "ID          1.000000 -0.027008    0.008546  0.017448  0.000628  0.017400   \n",
       "Tag        -0.027008  1.000000   -0.039439 -0.056683 -0.007247 -0.045331   \n",
       "Reputation  0.008546 -0.039439    1.000000  0.066504 -0.041019  0.036455   \n",
       "Answers     0.017448 -0.056683    0.066504  1.000000 -0.012197  0.498642   \n",
       "Username    0.000628 -0.007247   -0.041019 -0.012197  1.000000  0.002306   \n",
       "Views       0.017400 -0.045331    0.036455  0.498642  0.002306  1.000000   \n",
       "Repvi       0.005733 -0.015176    0.274403  0.202277 -0.012182  0.436074   \n",
       "\n",
       "               Repvi  \n",
       "ID          0.005733  \n",
       "Tag        -0.015176  \n",
       "Reputation  0.274403  \n",
       "Answers     0.202277  \n",
       "Username   -0.012182  \n",
       "Views       0.436074  \n",
       "Repvi       1.000000  "
      ]
     },
     "execution_count": 42,
     "metadata": {},
     "output_type": "execute_result"
    }
   ],
   "source": [
    "X_train.corr()"
   ]
  },
  {
   "cell_type": "code",
   "execution_count": 43,
   "metadata": {},
   "outputs": [
    {
     "data": {
      "text/plain": [
       "97.76"
      ]
     },
     "execution_count": 43,
     "metadata": {},
     "output_type": "execute_result"
    }
   ],
   "source": [
    "from sklearn.ensemble import RandomForestRegressor\n",
    "regressor = RandomForestRegressor(n_estimators = 7, random_state = 0)\n",
    "regressor.fit(X_train,Y_train)\n",
    "\n",
    "y_pred = regressor.predict(test)\n",
    "\n",
    "acc_log = round(regressor.score(X_train, Y_train) * 100, 2)\n",
    "acc_log"
   ]
  },
  {
   "cell_type": "code",
   "execution_count": 44,
   "metadata": {},
   "outputs": [],
   "source": [
    "submission = pd.DataFrame({\n",
    "        \"ID\": test[\"ID\"],\n",
    "        \"Upvotes\": y_pred\n",
    "    })\n",
    "submission.to_csv('C:/Users/Nikose/Desktop/enigma/sub16.csv', index=False)"
   ]
  },
  {
   "cell_type": "code",
   "execution_count": 45,
   "metadata": {},
   "outputs": [],
   "source": [
    "X_train['Repans'] = X_train['Reputation'] * X_train['Answers']\n",
    "test['Repans'] = test['Reputation'] * test['Answers']"
   ]
  },
  {
   "cell_type": "code",
   "execution_count": 46,
   "metadata": {},
   "outputs": [
    {
     "data": {
      "text/html": [
       "<div>\n",
       "<style scoped>\n",
       "    .dataframe tbody tr th:only-of-type {\n",
       "        vertical-align: middle;\n",
       "    }\n",
       "\n",
       "    .dataframe tbody tr th {\n",
       "        vertical-align: top;\n",
       "    }\n",
       "\n",
       "    .dataframe thead th {\n",
       "        text-align: right;\n",
       "    }\n",
       "</style>\n",
       "<table border=\"1\" class=\"dataframe\">\n",
       "  <thead>\n",
       "    <tr style=\"text-align: right;\">\n",
       "      <th></th>\n",
       "      <th>ID</th>\n",
       "      <th>Tag</th>\n",
       "      <th>Reputation</th>\n",
       "      <th>Answers</th>\n",
       "      <th>Username</th>\n",
       "      <th>Views</th>\n",
       "      <th>Repvi</th>\n",
       "      <th>Repans</th>\n",
       "    </tr>\n",
       "  </thead>\n",
       "  <tbody>\n",
       "    <tr>\n",
       "      <th>ID</th>\n",
       "      <td>1.000000</td>\n",
       "      <td>-0.027008</td>\n",
       "      <td>0.008546</td>\n",
       "      <td>0.017448</td>\n",
       "      <td>0.000628</td>\n",
       "      <td>0.017400</td>\n",
       "      <td>0.005733</td>\n",
       "      <td>0.008159</td>\n",
       "    </tr>\n",
       "    <tr>\n",
       "      <th>Tag</th>\n",
       "      <td>-0.027008</td>\n",
       "      <td>1.000000</td>\n",
       "      <td>-0.039439</td>\n",
       "      <td>-0.056683</td>\n",
       "      <td>-0.007247</td>\n",
       "      <td>-0.045331</td>\n",
       "      <td>-0.015176</td>\n",
       "      <td>-0.035797</td>\n",
       "    </tr>\n",
       "    <tr>\n",
       "      <th>Reputation</th>\n",
       "      <td>0.008546</td>\n",
       "      <td>-0.039439</td>\n",
       "      <td>1.000000</td>\n",
       "      <td>0.066504</td>\n",
       "      <td>-0.041019</td>\n",
       "      <td>0.036455</td>\n",
       "      <td>0.274403</td>\n",
       "      <td>0.728370</td>\n",
       "    </tr>\n",
       "    <tr>\n",
       "      <th>Answers</th>\n",
       "      <td>0.017448</td>\n",
       "      <td>-0.056683</td>\n",
       "      <td>0.066504</td>\n",
       "      <td>1.000000</td>\n",
       "      <td>-0.012197</td>\n",
       "      <td>0.498642</td>\n",
       "      <td>0.202277</td>\n",
       "      <td>0.280045</td>\n",
       "    </tr>\n",
       "    <tr>\n",
       "      <th>Username</th>\n",
       "      <td>0.000628</td>\n",
       "      <td>-0.007247</td>\n",
       "      <td>-0.041019</td>\n",
       "      <td>-0.012197</td>\n",
       "      <td>1.000000</td>\n",
       "      <td>0.002306</td>\n",
       "      <td>-0.012182</td>\n",
       "      <td>-0.029477</td>\n",
       "    </tr>\n",
       "    <tr>\n",
       "      <th>Views</th>\n",
       "      <td>0.017400</td>\n",
       "      <td>-0.045331</td>\n",
       "      <td>0.036455</td>\n",
       "      <td>0.498642</td>\n",
       "      <td>0.002306</td>\n",
       "      <td>1.000000</td>\n",
       "      <td>0.436074</td>\n",
       "      <td>0.183119</td>\n",
       "    </tr>\n",
       "    <tr>\n",
       "      <th>Repvi</th>\n",
       "      <td>0.005733</td>\n",
       "      <td>-0.015176</td>\n",
       "      <td>0.274403</td>\n",
       "      <td>0.202277</td>\n",
       "      <td>-0.012182</td>\n",
       "      <td>0.436074</td>\n",
       "      <td>1.000000</td>\n",
       "      <td>0.587389</td>\n",
       "    </tr>\n",
       "    <tr>\n",
       "      <th>Repans</th>\n",
       "      <td>0.008159</td>\n",
       "      <td>-0.035797</td>\n",
       "      <td>0.728370</td>\n",
       "      <td>0.280045</td>\n",
       "      <td>-0.029477</td>\n",
       "      <td>0.183119</td>\n",
       "      <td>0.587389</td>\n",
       "      <td>1.000000</td>\n",
       "    </tr>\n",
       "  </tbody>\n",
       "</table>\n",
       "</div>"
      ],
      "text/plain": [
       "                  ID       Tag  Reputation   Answers  Username     Views  \\\n",
       "ID          1.000000 -0.027008    0.008546  0.017448  0.000628  0.017400   \n",
       "Tag        -0.027008  1.000000   -0.039439 -0.056683 -0.007247 -0.045331   \n",
       "Reputation  0.008546 -0.039439    1.000000  0.066504 -0.041019  0.036455   \n",
       "Answers     0.017448 -0.056683    0.066504  1.000000 -0.012197  0.498642   \n",
       "Username    0.000628 -0.007247   -0.041019 -0.012197  1.000000  0.002306   \n",
       "Views       0.017400 -0.045331    0.036455  0.498642  0.002306  1.000000   \n",
       "Repvi       0.005733 -0.015176    0.274403  0.202277 -0.012182  0.436074   \n",
       "Repans      0.008159 -0.035797    0.728370  0.280045 -0.029477  0.183119   \n",
       "\n",
       "               Repvi    Repans  \n",
       "ID          0.005733  0.008159  \n",
       "Tag        -0.015176 -0.035797  \n",
       "Reputation  0.274403  0.728370  \n",
       "Answers     0.202277  0.280045  \n",
       "Username   -0.012182 -0.029477  \n",
       "Views       0.436074  0.183119  \n",
       "Repvi       1.000000  0.587389  \n",
       "Repans      0.587389  1.000000  "
      ]
     },
     "execution_count": 46,
     "metadata": {},
     "output_type": "execute_result"
    }
   ],
   "source": [
    "X_train.corr()"
   ]
  },
  {
   "cell_type": "code",
   "execution_count": 47,
   "metadata": {
    "scrolled": true
   },
   "outputs": [
    {
     "data": {
      "text/plain": [
       "97.65"
      ]
     },
     "execution_count": 47,
     "metadata": {},
     "output_type": "execute_result"
    }
   ],
   "source": [
    "from sklearn.ensemble import RandomForestRegressor\n",
    "regressor = RandomForestRegressor(n_estimators = 7, random_state = 0)\n",
    "regressor.fit(X_train,Y_train)\n",
    "\n",
    "y_pred = regressor.predict(test)\n",
    "\n",
    "acc_log = round(regressor.score(X_train, Y_train) * 100, 2)\n",
    "acc_log"
   ]
  },
  {
   "cell_type": "code",
   "execution_count": 48,
   "metadata": {},
   "outputs": [],
   "source": [
    "submission = pd.DataFrame({\n",
    "        \"ID\": test[\"ID\"],\n",
    "        \"Upvotes\": y_pred\n",
    "    })\n",
    "submission.to_csv('C:/Users/Nikose/Desktop/enigma/sub01.csv', index=False)"
   ]
  },
  {
   "cell_type": "code",
   "execution_count": 49,
   "metadata": {},
   "outputs": [],
   "source": [
    "import math"
   ]
  },
  {
   "cell_type": "code",
   "execution_count": 50,
   "metadata": {},
   "outputs": [
    {
     "data": {
      "text/plain": [
       "<matplotlib.collections.PathCollection at 0x1ac8403ad68>"
      ]
     },
     "execution_count": 50,
     "metadata": {},
     "output_type": "execute_result"
    },
    {
     "data": {
      "image/png": "[encoded data removed]",
      "text/plain": [
       "<matplotlib.figure.Figure at 0x1ac8404d4a8>"
      ]
     },
     "metadata": {},
     "output_type": "display_data"
    }
   ],
   "source": [
    "plt.scatter(train['Upvotes'],np.cbrt(X_train['Reputation']) ,color = 'red')"
   ]
  },
  {
   "cell_type": "code",
   "execution_count": 66,
   "metadata": {},
   "outputs": [
    {
     "name": "stderr",
     "output_type": "stream",
     "text": [
      "C:\\Users\\Nikose\\Anaconda3\\lib\\site-packages\\ipykernel_launcher.py:1: RuntimeWarning: divide by zero encountered in log\n",
      "  \"\"\"Entry point for launching an IPython kernel.\n"
     ]
    },
    {
     "data": {
      "text/plain": [
       "<matplotlib.collections.PathCollection at 0x1ac87f9bda0>"
      ]
     },
     "execution_count": 66,
     "metadata": {},
     "output_type": "execute_result"
    },
    {
     "data": {
      "image/png": "[encoded data removed]",
      "text/plain": [
       "<matplotlib.figure.Figure at 0x1ac88613048>"
      ]
     },
     "metadata": {},
     "output_type": "display_data"
    }
   ],
   "source": [
    "plt.scatter(train['Upvotes'],(X_train['ID'])) ,color = 'red')"
   ]
  },
  {
   "cell_type": "code",
   "execution_count": 68,
   "metadata": {},
   "outputs": [
    {
     "data": {
      "text/plain": [
       "<matplotlib.collections.PathCollection at 0x1ac83b64860>"
      ]
     },
     "execution_count": 68,
     "metadata": {},
     "output_type": "execute_result"
    },
    {
     "data": {
      "image/png": "[encoded data removed]",
      "text/plain": [
       "<matplotlib.figure.Figure at 0x1ac83b483c8>"
      ]
     },
     "metadata": {},
     "output_type": "display_data"
    }
   ],
   "source": [
    "plt.scatter(train['Upvotes'],(X_train['Repvi']*X_train['Tag']) ,color = 'red')"
   ]
  },
  {
   "cell_type": "code",
   "execution_count": 53,
   "metadata": {},
   "outputs": [],
   "source": [
    "X_train['Revi'] = X_train['Repvi']-X_train['Views']"
   ]
  },
  {
   "cell_type": "code",
   "execution_count": 54,
   "metadata": {},
   "outputs": [],
   "source": [
    "test['Revi'] = test['Repvi']-test['Views']"
   ]
  },
  {
   "cell_type": "code",
   "execution_count": 55,
   "metadata": {},
   "outputs": [
    {
     "data": {
      "text/plain": [
       "97.7"
      ]
     },
     "execution_count": 55,
     "metadata": {},
     "output_type": "execute_result"
    }
   ],
   "source": [
    "from sklearn.ensemble import RandomForestRegressor\n",
    "regressor = RandomForestRegressor(n_estimators = 7, random_state = 0)\n",
    "regressor.fit(X_train,Y_train)\n",
    "\n",
    "y_pred = regressor.predict(test)\n",
    "\n",
    "acc_log = round(regressor.score(X_train, Y_train) * 100, 2)\n",
    "acc_log"
   ]
  },
  {
   "cell_type": "code",
   "execution_count": 56,
   "metadata": {},
   "outputs": [],
   "source": [
    "submission = pd.DataFrame({\n",
    "        \"ID\": test[\"ID\"],\n",
    "        \"Upvotes\": y_pred\n",
    "    })\n",
    "submission.to_csv('C:/Users/Nikose/Desktop/enigma/sub07.csv', index=False)"
   ]
  },
  {
   "cell_type": "code",
   "execution_count": 57,
   "metadata": {},
   "outputs": [],
   "source": [
    "X_train = X_train.drop('Reputation',axis = 1)"
   ]
  },
  {
   "cell_type": "code",
   "execution_count": 58,
   "metadata": {},
   "outputs": [],
   "source": [
    "test = test.drop('Reputation',axis = 1)"
   ]
  },
  {
   "cell_type": "code",
   "execution_count": 59,
   "metadata": {},
   "outputs": [
    {
     "data": {
      "text/plain": [
       "97.59"
      ]
     },
     "execution_count": 59,
     "metadata": {},
     "output_type": "execute_result"
    }
   ],
   "source": [
    "from sklearn.ensemble import RandomForestRegressor\n",
    "regressor = RandomForestRegressor(n_estimators = 7, random_state = 0)\n",
    "regressor.fit(X_train,Y_train)\n",
    "\n",
    "y_pred = regressor.predict(test)\n",
    "\n",
    "acc_log = round(regressor.score(X_train, Y_train) * 100, 2)\n",
    "acc_log"
   ]
  },
  {
   "cell_type": "code",
   "execution_count": 60,
   "metadata": {},
   "outputs": [],
   "source": [
    "submission = pd.DataFrame({\n",
    "        \"ID\": test[\"ID\"],\n",
    "        \"Upvotes\": y_pred\n",
    "    })\n",
    "submission.to_csv('C:/Users/Nikose/Desktop/enigma/sub06.csv', index=False)"
   ]
  },
  {
   "cell_type": "code",
   "execution_count": 72,
   "metadata": {},
   "outputs": [],
   "source": [
    "test['Tag'] = test1['Tag']\n",
    "X_train['Tag'] = train['Tag']"
   ]
  },
  {
   "cell_type": "code",
   "execution_count": 62,
   "metadata": {},
   "outputs": [
    {
     "data": {
      "text/plain": [
       "(141448, 8)"
      ]
     },
     "execution_count": 62,
     "metadata": {},
     "output_type": "execute_result"
    }
   ],
   "source": [
    "test.shape"
   ]
  },
  {
   "cell_type": "code",
   "execution_count": 63,
   "metadata": {},
   "outputs": [
    {
     "data": {
      "text/plain": [
       "(330045, 8)"
      ]
     },
     "execution_count": 63,
     "metadata": {},
     "output_type": "execute_result"
    }
   ],
   "source": [
    "X_train.shape"
   ]
  },
  {
   "cell_type": "code",
   "execution_count": 64,
   "metadata": {},
   "outputs": [
    {
     "data": {
      "text/plain": [
       "97.59"
      ]
     },
     "execution_count": 64,
     "metadata": {},
     "output_type": "execute_result"
    }
   ],
   "source": [
    "from sklearn.ensemble import RandomForestRegressor\n",
    "regressor = RandomForestRegressor(n_estimators = 7, random_state = 0)\n",
    "regressor.fit(X_train,Y_train)\n",
    "\n",
    "y_pred = regressor.predict(test)\n",
    "\n",
    "acc_log = round(regressor.score(X_train, Y_train) * 100, 2)\n",
    "acc_log"
   ]
  },
  {
   "cell_type": "code",
   "execution_count": 154,
   "metadata": {},
   "outputs": [],
   "source": [
    "submission = pd.DataFrame({\n",
    "        \"ID\": test[\"ID\"],\n",
    "        \"Upvotes\": y_pred\n",
    "    })\n",
    "submission.to_csv('C:/Users/Nikose/Desktop/enigma/sub05.csv', index=False)"
   ]
  },
  {
   "cell_type": "code",
   "execution_count": 73,
   "metadata": {},
   "outputs": [],
   "source": [
    "X_train = X_train.drop('ID',axis = 1)\n",
    "test = test.drop('ID',axis =1)"
   ]
  },
  {
   "cell_type": "code",
   "execution_count": 74,
   "metadata": {},
   "outputs": [
    {
     "ename": "ValueError",
     "evalue": "could not convert string to float: 'a'",
     "output_type": "error",
     "traceback": [
      "\u001b[1;31m---------------------------------------------------------------------------\u001b[0m",
      "\u001b[1;31mValueError\u001b[0m                                Traceback (most recent call last)",
      "\u001b[1;32m<ipython-input-74-cc9f870138c1>\u001b[0m in \u001b[0;36m<module>\u001b[1;34m()\u001b[0m\n\u001b[0;32m      3\u001b[0m \u001b[0mregressor\u001b[0m\u001b[1;33m.\u001b[0m\u001b[0mfit\u001b[0m\u001b[1;33m(\u001b[0m\u001b[0mX_train\u001b[0m\u001b[1;33m,\u001b[0m\u001b[0mY_train\u001b[0m\u001b[1;33m)\u001b[0m\u001b[1;33m\u001b[0m\u001b[0m\n\u001b[0;32m      4\u001b[0m \u001b[1;33m\u001b[0m\u001b[0m\n\u001b[1;32m----> 5\u001b[1;33m \u001b[0my_pred\u001b[0m \u001b[1;33m=\u001b[0m \u001b[0mregressor\u001b[0m\u001b[1;33m.\u001b[0m\u001b[0mpredict\u001b[0m\u001b[1;33m(\u001b[0m\u001b[0mtest\u001b[0m\u001b[1;33m)\u001b[0m\u001b[1;33m\u001b[0m\u001b[0m\n\u001b[0m\u001b[0;32m      6\u001b[0m \u001b[1;33m\u001b[0m\u001b[0m\n\u001b[0;32m      7\u001b[0m \u001b[0macc_log\u001b[0m \u001b[1;33m=\u001b[0m \u001b[0mround\u001b[0m\u001b[1;33m(\u001b[0m\u001b[0mregressor\u001b[0m\u001b[1;33m.\u001b[0m\u001b[0mscore\u001b[0m\u001b[1;33m(\u001b[0m\u001b[0mX_train\u001b[0m\u001b[1;33m,\u001b[0m \u001b[0mY_train\u001b[0m\u001b[1;33m)\u001b[0m \u001b[1;33m*\u001b[0m \u001b[1;36m100\u001b[0m\u001b[1;33m,\u001b[0m \u001b[1;36m2\u001b[0m\u001b[1;33m)\u001b[0m\u001b[1;33m\u001b[0m\u001b[0m\n",
      "\u001b[1;32m~\\Anaconda3\\lib\\site-packages\\sklearn\\ensemble\\forest.py\u001b[0m in \u001b[0;36mpredict\u001b[1;34m(self, X)\u001b[0m\n\u001b[0;32m    679\u001b[0m         \u001b[0mcheck_is_fitted\u001b[0m\u001b[1;33m(\u001b[0m\u001b[0mself\u001b[0m\u001b[1;33m,\u001b[0m \u001b[1;34m'estimators_'\u001b[0m\u001b[1;33m)\u001b[0m\u001b[1;33m\u001b[0m\u001b[0m\n\u001b[0;32m    680\u001b[0m         \u001b[1;31m# Check data\u001b[0m\u001b[1;33m\u001b[0m\u001b[1;33m\u001b[0m\u001b[0m\n\u001b[1;32m--> 681\u001b[1;33m         \u001b[0mX\u001b[0m \u001b[1;33m=\u001b[0m \u001b[0mself\u001b[0m\u001b[1;33m.\u001b[0m\u001b[0m_validate_X_predict\u001b[0m\u001b[1;33m(\u001b[0m\u001b[0mX\u001b[0m\u001b[1;33m)\u001b[0m\u001b[1;33m\u001b[0m\u001b[0m\n\u001b[0m\u001b[0;32m    682\u001b[0m \u001b[1;33m\u001b[0m\u001b[0m\n\u001b[0;32m    683\u001b[0m         \u001b[1;31m# Assign chunk of trees to jobs\u001b[0m\u001b[1;33m\u001b[0m\u001b[1;33m\u001b[0m\u001b[0m\n",
      "\u001b[1;32m~\\Anaconda3\\lib\\site-packages\\sklearn\\ensemble\\forest.py\u001b[0m in \u001b[0;36m_validate_X_predict\u001b[1;34m(self, X)\u001b[0m\n\u001b[0;32m    355\u001b[0m                                  \"call `fit` before exploiting the model.\")\n\u001b[0;32m    356\u001b[0m \u001b[1;33m\u001b[0m\u001b[0m\n\u001b[1;32m--> 357\u001b[1;33m         \u001b[1;32mreturn\u001b[0m \u001b[0mself\u001b[0m\u001b[1;33m.\u001b[0m\u001b[0mestimators_\u001b[0m\u001b[1;33m[\u001b[0m\u001b[1;36m0\u001b[0m\u001b[1;33m]\u001b[0m\u001b[1;33m.\u001b[0m\u001b[0m_validate_X_predict\u001b[0m\u001b[1;33m(\u001b[0m\u001b[0mX\u001b[0m\u001b[1;33m,\u001b[0m \u001b[0mcheck_input\u001b[0m\u001b[1;33m=\u001b[0m\u001b[1;32mTrue\u001b[0m\u001b[1;33m)\u001b[0m\u001b[1;33m\u001b[0m\u001b[0m\n\u001b[0m\u001b[0;32m    358\u001b[0m \u001b[1;33m\u001b[0m\u001b[0m\n\u001b[0;32m    359\u001b[0m     \u001b[1;33m@\u001b[0m\u001b[0mproperty\u001b[0m\u001b[1;33m\u001b[0m\u001b[0m\n",
      "\u001b[1;32m~\\Anaconda3\\lib\\site-packages\\sklearn\\tree\\tree.py\u001b[0m in \u001b[0;36m_validate_X_predict\u001b[1;34m(self, X, check_input)\u001b[0m\n\u001b[0;32m    371\u001b[0m         \u001b[1;34m\"\"\"Validate X whenever one tries to predict, apply, predict_proba\"\"\"\u001b[0m\u001b[1;33m\u001b[0m\u001b[0m\n\u001b[0;32m    372\u001b[0m         \u001b[1;32mif\u001b[0m \u001b[0mcheck_input\u001b[0m\u001b[1;33m:\u001b[0m\u001b[1;33m\u001b[0m\u001b[0m\n\u001b[1;32m--> 373\u001b[1;33m             \u001b[0mX\u001b[0m \u001b[1;33m=\u001b[0m \u001b[0mcheck_array\u001b[0m\u001b[1;33m(\u001b[0m\u001b[0mX\u001b[0m\u001b[1;33m,\u001b[0m \u001b[0mdtype\u001b[0m\u001b[1;33m=\u001b[0m\u001b[0mDTYPE\u001b[0m\u001b[1;33m,\u001b[0m \u001b[0maccept_sparse\u001b[0m\u001b[1;33m=\u001b[0m\u001b[1;34m\"csr\"\u001b[0m\u001b[1;33m)\u001b[0m\u001b[1;33m\u001b[0m\u001b[0m\n\u001b[0m\u001b[0;32m    374\u001b[0m             if issparse(X) and (X.indices.dtype != np.intc or\n\u001b[0;32m    375\u001b[0m                                 X.indptr.dtype != np.intc):\n",
      "\u001b[1;32m~\\Anaconda3\\lib\\site-packages\\sklearn\\utils\\validation.py\u001b[0m in \u001b[0;36mcheck_array\u001b[1;34m(array, accept_sparse, dtype, order, copy, force_all_finite, ensure_2d, allow_nd, ensure_min_samples, ensure_min_features, warn_on_dtype, estimator)\u001b[0m\n\u001b[0;32m    431\u001b[0m                                       force_all_finite)\n\u001b[0;32m    432\u001b[0m     \u001b[1;32melse\u001b[0m\u001b[1;33m:\u001b[0m\u001b[1;33m\u001b[0m\u001b[0m\n\u001b[1;32m--> 433\u001b[1;33m         \u001b[0marray\u001b[0m \u001b[1;33m=\u001b[0m \u001b[0mnp\u001b[0m\u001b[1;33m.\u001b[0m\u001b[0marray\u001b[0m\u001b[1;33m(\u001b[0m\u001b[0marray\u001b[0m\u001b[1;33m,\u001b[0m \u001b[0mdtype\u001b[0m\u001b[1;33m=\u001b[0m\u001b[0mdtype\u001b[0m\u001b[1;33m,\u001b[0m \u001b[0morder\u001b[0m\u001b[1;33m=\u001b[0m\u001b[0morder\u001b[0m\u001b[1;33m,\u001b[0m \u001b[0mcopy\u001b[0m\u001b[1;33m=\u001b[0m\u001b[0mcopy\u001b[0m\u001b[1;33m)\u001b[0m\u001b[1;33m\u001b[0m\u001b[0m\n\u001b[0m\u001b[0;32m    434\u001b[0m \u001b[1;33m\u001b[0m\u001b[0m\n\u001b[0;32m    435\u001b[0m         \u001b[1;32mif\u001b[0m \u001b[0mensure_2d\u001b[0m\u001b[1;33m:\u001b[0m\u001b[1;33m\u001b[0m\u001b[0m\n",
      "\u001b[1;31mValueError\u001b[0m: could not convert string to float: 'a'"
     ]
    }
   ],
   "source": [
    "from sklearn.ensemble import RandomForestRegressor\n",
    "regressor = RandomForestRegressor(n_estimators = 7, random_state = 0)\n",
    "regressor.fit(X_train,Y_train)\n",
    "\n",
    "y_pred = regressor.predict(test)\n",
    "\n",
    "acc_log = round(regressor.score(X_train, Y_train) * 100, 2)\n",
    "acc_log"
   ]
  },
  {
   "cell_type": "code",
   "execution_count": 71,
   "metadata": {},
   "outputs": [],
   "source": [
    "submission = pd.DataFrame({\n",
    "        \"ID\": test[\"ID\"],\n",
    "        \"Upvotes\": y_pred\n",
    "    })\n",
    "submission.to_csv('C:/Users/Nikose/Desktop/enigma/sub04.csv', index=False)"
   ]
  },
  {
   "cell_type": "code",
   "execution_count": 76,
   "metadata": {},
   "outputs": [
    {
     "data": {
      "text/plain": [
       "98.47"
      ]
     },
     "execution_count": 76,
     "metadata": {},
     "output_type": "execute_result"
    }
   ],
   "source": [
    "from sklearn.ensemble import RandomForestRegressor\n",
    "regressor = RandomForestRegressor(n_estimators = 25, random_state = 0)\n",
    "regressor.fit(X_train,Y_train)\n",
    "\n",
    "y_pred = regressor.predict(test)\n",
    "\n",
    "acc_log = round(regressor.score(X_train, Y_train) * 100, 2)\n",
    "acc_log"
   ]
  },
  {
   "cell_type": "code",
   "execution_count": 77,
   "metadata": {},
   "outputs": [],
   "source": [
    "submission = pd.DataFrame({\n",
    "        \"ID\": test[\"ID\"],\n",
    "        \"Upvotes\": y_pred\n",
    "    })\n",
    "submission.to_csv('C:/Users/Nikose/Desktop/enigma/sub02.csv', index=False)"
   ]
  },
  {
   "cell_type": "code",
   "execution_count": 184,
   "metadata": {},
   "outputs": [],
   "source": [
    "X_train['Vians'] = X_train['Answers'] * X_train['Views']\n",
    "test['Vians'] = test['Answers'] * test['Views']"
   ]
  },
  {
   "cell_type": "code",
   "execution_count": 140,
   "metadata": {},
   "outputs": [
    {
     "data": {
      "text/html": [
       "<div>\n",
       "<style scoped>\n",
       "    .dataframe tbody tr th:only-of-type {\n",
       "        vertical-align: middle;\n",
       "    }\n",
       "\n",
       "    .dataframe tbody tr th {\n",
       "        vertical-align: top;\n",
       "    }\n",
       "\n",
       "    .dataframe thead th {\n",
       "        text-align: right;\n",
       "    }\n",
       "</style>\n",
       "<table border=\"1\" class=\"dataframe\">\n",
       "  <thead>\n",
       "    <tr style=\"text-align: right;\">\n",
       "      <th></th>\n",
       "      <th>ID</th>\n",
       "      <th>Tag</th>\n",
       "      <th>Reputation</th>\n",
       "      <th>Answers</th>\n",
       "      <th>Username</th>\n",
       "      <th>Views</th>\n",
       "      <th>Repvi</th>\n",
       "      <th>Repans</th>\n",
       "      <th>Vians</th>\n",
       "    </tr>\n",
       "  </thead>\n",
       "  <tbody>\n",
       "    <tr>\n",
       "      <th>ID</th>\n",
       "      <td>1.000000</td>\n",
       "      <td>-0.027008</td>\n",
       "      <td>0.008546</td>\n",
       "      <td>0.017448</td>\n",
       "      <td>0.000628</td>\n",
       "      <td>0.017400</td>\n",
       "      <td>0.005733</td>\n",
       "      <td>0.008159</td>\n",
       "      <td>0.008350</td>\n",
       "    </tr>\n",
       "    <tr>\n",
       "      <th>Tag</th>\n",
       "      <td>-0.027008</td>\n",
       "      <td>1.000000</td>\n",
       "      <td>-0.039439</td>\n",
       "      <td>-0.056683</td>\n",
       "      <td>-0.007247</td>\n",
       "      <td>-0.045331</td>\n",
       "      <td>-0.015176</td>\n",
       "      <td>-0.035797</td>\n",
       "      <td>-0.020321</td>\n",
       "    </tr>\n",
       "    <tr>\n",
       "      <th>Reputation</th>\n",
       "      <td>0.008546</td>\n",
       "      <td>-0.039439</td>\n",
       "      <td>1.000000</td>\n",
       "      <td>0.066504</td>\n",
       "      <td>-0.041019</td>\n",
       "      <td>0.036455</td>\n",
       "      <td>0.274403</td>\n",
       "      <td>0.728370</td>\n",
       "      <td>0.034255</td>\n",
       "    </tr>\n",
       "    <tr>\n",
       "      <th>Answers</th>\n",
       "      <td>0.017448</td>\n",
       "      <td>-0.056683</td>\n",
       "      <td>0.066504</td>\n",
       "      <td>1.000000</td>\n",
       "      <td>-0.012197</td>\n",
       "      <td>0.498642</td>\n",
       "      <td>0.202277</td>\n",
       "      <td>0.280045</td>\n",
       "      <td>0.472579</td>\n",
       "    </tr>\n",
       "    <tr>\n",
       "      <th>Username</th>\n",
       "      <td>0.000628</td>\n",
       "      <td>-0.007247</td>\n",
       "      <td>-0.041019</td>\n",
       "      <td>-0.012197</td>\n",
       "      <td>1.000000</td>\n",
       "      <td>0.002306</td>\n",
       "      <td>-0.012182</td>\n",
       "      <td>-0.029477</td>\n",
       "      <td>-0.000165</td>\n",
       "    </tr>\n",
       "    <tr>\n",
       "      <th>Views</th>\n",
       "      <td>0.017400</td>\n",
       "      <td>-0.045331</td>\n",
       "      <td>0.036455</td>\n",
       "      <td>0.498642</td>\n",
       "      <td>0.002306</td>\n",
       "      <td>1.000000</td>\n",
       "      <td>0.436074</td>\n",
       "      <td>0.183119</td>\n",
       "      <td>0.817813</td>\n",
       "    </tr>\n",
       "    <tr>\n",
       "      <th>Repvi</th>\n",
       "      <td>0.005733</td>\n",
       "      <td>-0.015176</td>\n",
       "      <td>0.274403</td>\n",
       "      <td>0.202277</td>\n",
       "      <td>-0.012182</td>\n",
       "      <td>0.436074</td>\n",
       "      <td>1.000000</td>\n",
       "      <td>0.587389</td>\n",
       "      <td>0.456453</td>\n",
       "    </tr>\n",
       "    <tr>\n",
       "      <th>Repans</th>\n",
       "      <td>0.008159</td>\n",
       "      <td>-0.035797</td>\n",
       "      <td>0.728370</td>\n",
       "      <td>0.280045</td>\n",
       "      <td>-0.029477</td>\n",
       "      <td>0.183119</td>\n",
       "      <td>0.587389</td>\n",
       "      <td>1.000000</td>\n",
       "      <td>0.206219</td>\n",
       "    </tr>\n",
       "    <tr>\n",
       "      <th>Vians</th>\n",
       "      <td>0.008350</td>\n",
       "      <td>-0.020321</td>\n",
       "      <td>0.034255</td>\n",
       "      <td>0.472579</td>\n",
       "      <td>-0.000165</td>\n",
       "      <td>0.817813</td>\n",
       "      <td>0.456453</td>\n",
       "      <td>0.206219</td>\n",
       "      <td>1.000000</td>\n",
       "    </tr>\n",
       "  </tbody>\n",
       "</table>\n",
       "</div>"
      ],
      "text/plain": [
       "                  ID       Tag  Reputation   Answers  Username     Views  \\\n",
       "ID          1.000000 -0.027008    0.008546  0.017448  0.000628  0.017400   \n",
       "Tag        -0.027008  1.000000   -0.039439 -0.056683 -0.007247 -0.045331   \n",
       "Reputation  0.008546 -0.039439    1.000000  0.066504 -0.041019  0.036455   \n",
       "Answers     0.017448 -0.056683    0.066504  1.000000 -0.012197  0.498642   \n",
       "Username    0.000628 -0.007247   -0.041019 -0.012197  1.000000  0.002306   \n",
       "Views       0.017400 -0.045331    0.036455  0.498642  0.002306  1.000000   \n",
       "Repvi       0.005733 -0.015176    0.274403  0.202277 -0.012182  0.436074   \n",
       "Repans      0.008159 -0.035797    0.728370  0.280045 -0.029477  0.183119   \n",
       "Vians       0.008350 -0.020321    0.034255  0.472579 -0.000165  0.817813   \n",
       "\n",
       "               Repvi    Repans     Vians  \n",
       "ID          0.005733  0.008159  0.008350  \n",
       "Tag        -0.015176 -0.035797 -0.020321  \n",
       "Reputation  0.274403  0.728370  0.034255  \n",
       "Answers     0.202277  0.280045  0.472579  \n",
       "Username   -0.012182 -0.029477 -0.000165  \n",
       "Views       0.436074  0.183119  0.817813  \n",
       "Repvi       1.000000  0.587389  0.456453  \n",
       "Repans      0.587389  1.000000  0.206219  \n",
       "Vians       0.456453  0.206219  1.000000  "
      ]
     },
     "execution_count": 140,
     "metadata": {},
     "output_type": "execute_result"
    }
   ],
   "source": [
    "X_train.corr()"
   ]
  },
  {
   "cell_type": "code",
   "execution_count": 141,
   "metadata": {},
   "outputs": [
    {
     "data": {
      "text/plain": [
       "97.85"
      ]
     },
     "execution_count": 141,
     "metadata": {},
     "output_type": "execute_result"
    }
   ],
   "source": [
    "from sklearn.ensemble import RandomForestRegressor\n",
    "regressor = RandomForestRegressor(n_estimators = 7, random_state = 0)\n",
    "regressor.fit(X_train,Y_train)\n",
    "\n",
    "y_pred = regressor.predict(test)\n",
    "\n",
    "acc_log = round(regressor.score(X_train, Y_train) * 100, 2)\n",
    "acc_log"
   ]
  },
  {
   "cell_type": "code",
   "execution_count": 142,
   "metadata": {},
   "outputs": [],
   "source": [
    "submission = pd.DataFrame({\n",
    "        \"ID\": test[\"ID\"],\n",
    "        \"Upvotes\": y_pred\n",
    "    })\n",
    "submission.to_csv('C:/Users/Nikose/Desktop/enigma/sub18.csv', index=False)"
   ]
  },
  {
   "cell_type": "code",
   "execution_count": 148,
   "metadata": {},
   "outputs": [],
   "source": [
    "X_train = X_train.drop(['Views'], axis=1)"
   ]
  },
  {
   "cell_type": "code",
   "execution_count": 149,
   "metadata": {},
   "outputs": [],
   "source": [
    "test = test.drop(['Views'], axis=1)"
   ]
  },
  {
   "cell_type": "code",
   "execution_count": 150,
   "metadata": {},
   "outputs": [
    {
     "data": {
      "text/html": [
       "<div>\n",
       "<style scoped>\n",
       "    .dataframe tbody tr th:only-of-type {\n",
       "        vertical-align: middle;\n",
       "    }\n",
       "\n",
       "    .dataframe tbody tr th {\n",
       "        vertical-align: top;\n",
       "    }\n",
       "\n",
       "    .dataframe thead th {\n",
       "        text-align: right;\n",
       "    }\n",
       "</style>\n",
       "<table border=\"1\" class=\"dataframe\">\n",
       "  <thead>\n",
       "    <tr style=\"text-align: right;\">\n",
       "      <th></th>\n",
       "      <th>ID</th>\n",
       "      <th>Tag</th>\n",
       "      <th>Reputation</th>\n",
       "      <th>Answers</th>\n",
       "      <th>Username</th>\n",
       "      <th>Repvi</th>\n",
       "      <th>Repans</th>\n",
       "      <th>Vians</th>\n",
       "    </tr>\n",
       "  </thead>\n",
       "  <tbody>\n",
       "    <tr>\n",
       "      <th>ID</th>\n",
       "      <td>1.000000</td>\n",
       "      <td>-0.027008</td>\n",
       "      <td>0.008546</td>\n",
       "      <td>0.017448</td>\n",
       "      <td>0.000628</td>\n",
       "      <td>0.005733</td>\n",
       "      <td>0.008159</td>\n",
       "      <td>0.008350</td>\n",
       "    </tr>\n",
       "    <tr>\n",
       "      <th>Tag</th>\n",
       "      <td>-0.027008</td>\n",
       "      <td>1.000000</td>\n",
       "      <td>-0.039439</td>\n",
       "      <td>-0.056683</td>\n",
       "      <td>-0.007247</td>\n",
       "      <td>-0.015176</td>\n",
       "      <td>-0.035797</td>\n",
       "      <td>-0.020321</td>\n",
       "    </tr>\n",
       "    <tr>\n",
       "      <th>Reputation</th>\n",
       "      <td>0.008546</td>\n",
       "      <td>-0.039439</td>\n",
       "      <td>1.000000</td>\n",
       "      <td>0.066504</td>\n",
       "      <td>-0.041019</td>\n",
       "      <td>0.274403</td>\n",
       "      <td>0.728370</td>\n",
       "      <td>0.034255</td>\n",
       "    </tr>\n",
       "    <tr>\n",
       "      <th>Answers</th>\n",
       "      <td>0.017448</td>\n",
       "      <td>-0.056683</td>\n",
       "      <td>0.066504</td>\n",
       "      <td>1.000000</td>\n",
       "      <td>-0.012197</td>\n",
       "      <td>0.202277</td>\n",
       "      <td>0.280045</td>\n",
       "      <td>0.472579</td>\n",
       "    </tr>\n",
       "    <tr>\n",
       "      <th>Username</th>\n",
       "      <td>0.000628</td>\n",
       "      <td>-0.007247</td>\n",
       "      <td>-0.041019</td>\n",
       "      <td>-0.012197</td>\n",
       "      <td>1.000000</td>\n",
       "      <td>-0.012182</td>\n",
       "      <td>-0.029477</td>\n",
       "      <td>-0.000165</td>\n",
       "    </tr>\n",
       "    <tr>\n",
       "      <th>Repvi</th>\n",
       "      <td>0.005733</td>\n",
       "      <td>-0.015176</td>\n",
       "      <td>0.274403</td>\n",
       "      <td>0.202277</td>\n",
       "      <td>-0.012182</td>\n",
       "      <td>1.000000</td>\n",
       "      <td>0.587389</td>\n",
       "      <td>0.456453</td>\n",
       "    </tr>\n",
       "    <tr>\n",
       "      <th>Repans</th>\n",
       "      <td>0.008159</td>\n",
       "      <td>-0.035797</td>\n",
       "      <td>0.728370</td>\n",
       "      <td>0.280045</td>\n",
       "      <td>-0.029477</td>\n",
       "      <td>0.587389</td>\n",
       "      <td>1.000000</td>\n",
       "      <td>0.206219</td>\n",
       "    </tr>\n",
       "    <tr>\n",
       "      <th>Vians</th>\n",
       "      <td>0.008350</td>\n",
       "      <td>-0.020321</td>\n",
       "      <td>0.034255</td>\n",
       "      <td>0.472579</td>\n",
       "      <td>-0.000165</td>\n",
       "      <td>0.456453</td>\n",
       "      <td>0.206219</td>\n",
       "      <td>1.000000</td>\n",
       "    </tr>\n",
       "  </tbody>\n",
       "</table>\n",
       "</div>"
      ],
      "text/plain": [
       "                  ID       Tag  Reputation   Answers  Username     Repvi  \\\n",
       "ID          1.000000 -0.027008    0.008546  0.017448  0.000628  0.005733   \n",
       "Tag        -0.027008  1.000000   -0.039439 -0.056683 -0.007247 -0.015176   \n",
       "Reputation  0.008546 -0.039439    1.000000  0.066504 -0.041019  0.274403   \n",
       "Answers     0.017448 -0.056683    0.066504  1.000000 -0.012197  0.202277   \n",
       "Username    0.000628 -0.007247   -0.041019 -0.012197  1.000000 -0.012182   \n",
       "Repvi       0.005733 -0.015176    0.274403  0.202277 -0.012182  1.000000   \n",
       "Repans      0.008159 -0.035797    0.728370  0.280045 -0.029477  0.587389   \n",
       "Vians       0.008350 -0.020321    0.034255  0.472579 -0.000165  0.456453   \n",
       "\n",
       "              Repans     Vians  \n",
       "ID          0.008159  0.008350  \n",
       "Tag        -0.035797 -0.020321  \n",
       "Reputation  0.728370  0.034255  \n",
       "Answers     0.280045  0.472579  \n",
       "Username   -0.029477 -0.000165  \n",
       "Repvi       0.587389  0.456453  \n",
       "Repans      1.000000  0.206219  \n",
       "Vians       0.206219  1.000000  "
      ]
     },
     "execution_count": 150,
     "metadata": {},
     "output_type": "execute_result"
    }
   ],
   "source": [
    "X_train.corr()"
   ]
  },
  {
   "cell_type": "code",
   "execution_count": 151,
   "metadata": {},
   "outputs": [
    {
     "data": {
      "text/plain": [
       "97.56"
      ]
     },
     "execution_count": 151,
     "metadata": {},
     "output_type": "execute_result"
    }
   ],
   "source": [
    "from sklearn.ensemble import RandomForestRegressor\n",
    "regressor = RandomForestRegressor(n_estimators = 7, random_state = 0)\n",
    "regressor.fit(X_train,Y_train)\n",
    "\n",
    "y_pred = regressor.predict(test)\n",
    "\n",
    "acc_log = round(regressor.score(X_train, Y_train) * 100, 2)\n",
    "acc_log"
   ]
  },
  {
   "cell_type": "code",
   "execution_count": 152,
   "metadata": {},
   "outputs": [],
   "source": [
    "submission = pd.DataFrame({\n",
    "        \"ID\": test[\"ID\"],\n",
    "        \"Upvotes\": y_pred\n",
    "    })\n",
    "submission.to_csv('C:/Users/Nikose/Desktop/enigma/sub19.csv', index=False)"
   ]
  },
  {
   "cell_type": "code",
   "execution_count": 158,
   "metadata": {},
   "outputs": [],
   "source": [
    "test['Reputation'] = test1['Reputation']\n",
    "X_train['Reputation'] = train['Reputation']"
   ]
  },
  {
   "cell_type": "code",
   "execution_count": 161,
   "metadata": {},
   "outputs": [],
   "source": [
    "test['Views'] = test1['Views']\n",
    "X_train['Views'] = train['Views']"
   ]
  },
  {
   "cell_type": "code",
   "execution_count": 169,
   "metadata": {},
   "outputs": [],
   "source": [
    "X_train['tvr'] = train['Tag']*train['Views']*train['Reputation']"
   ]
  },
  {
   "cell_type": "code",
   "execution_count": 172,
   "metadata": {},
   "outputs": [],
   "source": [
    "test['tvr'] = test['Tag']*test['Views']*test['Reputation']"
   ]
  },
  {
   "cell_type": "code",
   "execution_count": 185,
   "metadata": {},
   "outputs": [
    {
     "data": {
      "text/html": [
       "<div>\n",
       "<style scoped>\n",
       "    .dataframe tbody tr th:only-of-type {\n",
       "        vertical-align: middle;\n",
       "    }\n",
       "\n",
       "    .dataframe tbody tr th {\n",
       "        vertical-align: top;\n",
       "    }\n",
       "\n",
       "    .dataframe thead th {\n",
       "        text-align: right;\n",
       "    }\n",
       "</style>\n",
       "<table border=\"1\" class=\"dataframe\">\n",
       "  <thead>\n",
       "    <tr style=\"text-align: right;\">\n",
       "      <th></th>\n",
       "      <th>ID</th>\n",
       "      <th>Tag</th>\n",
       "      <th>Answers</th>\n",
       "      <th>Username</th>\n",
       "      <th>Repvi</th>\n",
       "      <th>Repans</th>\n",
       "      <th>Reputation</th>\n",
       "      <th>Views</th>\n",
       "      <th>tvr</th>\n",
       "      <th>Vians</th>\n",
       "    </tr>\n",
       "  </thead>\n",
       "  <tbody>\n",
       "    <tr>\n",
       "      <th>ID</th>\n",
       "      <td>1.000000</td>\n",
       "      <td>-0.027008</td>\n",
       "      <td>0.017448</td>\n",
       "      <td>0.000628</td>\n",
       "      <td>0.005733</td>\n",
       "      <td>0.008159</td>\n",
       "      <td>0.008546</td>\n",
       "      <td>0.017400</td>\n",
       "      <td>0.004919</td>\n",
       "      <td>0.008350</td>\n",
       "    </tr>\n",
       "    <tr>\n",
       "      <th>Tag</th>\n",
       "      <td>-0.027008</td>\n",
       "      <td>1.000000</td>\n",
       "      <td>-0.056683</td>\n",
       "      <td>-0.007247</td>\n",
       "      <td>-0.015176</td>\n",
       "      <td>-0.035797</td>\n",
       "      <td>-0.039439</td>\n",
       "      <td>-0.045331</td>\n",
       "      <td>0.018531</td>\n",
       "      <td>-0.020321</td>\n",
       "    </tr>\n",
       "    <tr>\n",
       "      <th>Answers</th>\n",
       "      <td>0.017448</td>\n",
       "      <td>-0.056683</td>\n",
       "      <td>1.000000</td>\n",
       "      <td>-0.012197</td>\n",
       "      <td>0.202277</td>\n",
       "      <td>0.280045</td>\n",
       "      <td>0.066504</td>\n",
       "      <td>0.498642</td>\n",
       "      <td>0.187784</td>\n",
       "      <td>0.472579</td>\n",
       "    </tr>\n",
       "    <tr>\n",
       "      <th>Username</th>\n",
       "      <td>0.000628</td>\n",
       "      <td>-0.007247</td>\n",
       "      <td>-0.012197</td>\n",
       "      <td>1.000000</td>\n",
       "      <td>-0.012182</td>\n",
       "      <td>-0.029477</td>\n",
       "      <td>-0.041019</td>\n",
       "      <td>0.002306</td>\n",
       "      <td>-0.010694</td>\n",
       "      <td>-0.000165</td>\n",
       "    </tr>\n",
       "    <tr>\n",
       "      <th>Repvi</th>\n",
       "      <td>0.005733</td>\n",
       "      <td>-0.015176</td>\n",
       "      <td>0.202277</td>\n",
       "      <td>-0.012182</td>\n",
       "      <td>1.000000</td>\n",
       "      <td>0.587389</td>\n",
       "      <td>0.274403</td>\n",
       "      <td>0.436074</td>\n",
       "      <td>0.941114</td>\n",
       "      <td>0.456453</td>\n",
       "    </tr>\n",
       "    <tr>\n",
       "      <th>Repans</th>\n",
       "      <td>0.008159</td>\n",
       "      <td>-0.035797</td>\n",
       "      <td>0.280045</td>\n",
       "      <td>-0.029477</td>\n",
       "      <td>0.587389</td>\n",
       "      <td>1.000000</td>\n",
       "      <td>0.728370</td>\n",
       "      <td>0.183119</td>\n",
       "      <td>0.535800</td>\n",
       "      <td>0.206219</td>\n",
       "    </tr>\n",
       "    <tr>\n",
       "      <th>Reputation</th>\n",
       "      <td>0.008546</td>\n",
       "      <td>-0.039439</td>\n",
       "      <td>0.066504</td>\n",
       "      <td>-0.041019</td>\n",
       "      <td>0.274403</td>\n",
       "      <td>0.728370</td>\n",
       "      <td>1.000000</td>\n",
       "      <td>0.036455</td>\n",
       "      <td>0.251862</td>\n",
       "      <td>0.034255</td>\n",
       "    </tr>\n",
       "    <tr>\n",
       "      <th>Views</th>\n",
       "      <td>0.017400</td>\n",
       "      <td>-0.045331</td>\n",
       "      <td>0.498642</td>\n",
       "      <td>0.002306</td>\n",
       "      <td>0.436074</td>\n",
       "      <td>0.183119</td>\n",
       "      <td>0.036455</td>\n",
       "      <td>1.000000</td>\n",
       "      <td>0.419649</td>\n",
       "      <td>0.817813</td>\n",
       "    </tr>\n",
       "    <tr>\n",
       "      <th>tvr</th>\n",
       "      <td>0.004919</td>\n",
       "      <td>0.018531</td>\n",
       "      <td>0.187784</td>\n",
       "      <td>-0.010694</td>\n",
       "      <td>0.941114</td>\n",
       "      <td>0.535800</td>\n",
       "      <td>0.251862</td>\n",
       "      <td>0.419649</td>\n",
       "      <td>1.000000</td>\n",
       "      <td>0.426633</td>\n",
       "    </tr>\n",
       "    <tr>\n",
       "      <th>Vians</th>\n",
       "      <td>0.008350</td>\n",
       "      <td>-0.020321</td>\n",
       "      <td>0.472579</td>\n",
       "      <td>-0.000165</td>\n",
       "      <td>0.456453</td>\n",
       "      <td>0.206219</td>\n",
       "      <td>0.034255</td>\n",
       "      <td>0.817813</td>\n",
       "      <td>0.426633</td>\n",
       "      <td>1.000000</td>\n",
       "    </tr>\n",
       "  </tbody>\n",
       "</table>\n",
       "</div>"
      ],
      "text/plain": [
       "                  ID       Tag   Answers  Username     Repvi    Repans  \\\n",
       "ID          1.000000 -0.027008  0.017448  0.000628  0.005733  0.008159   \n",
       "Tag        -0.027008  1.000000 -0.056683 -0.007247 -0.015176 -0.035797   \n",
       "Answers     0.017448 -0.056683  1.000000 -0.012197  0.202277  0.280045   \n",
       "Username    0.000628 -0.007247 -0.012197  1.000000 -0.012182 -0.029477   \n",
       "Repvi       0.005733 -0.015176  0.202277 -0.012182  1.000000  0.587389   \n",
       "Repans      0.008159 -0.035797  0.280045 -0.029477  0.587389  1.000000   \n",
       "Reputation  0.008546 -0.039439  0.066504 -0.041019  0.274403  0.728370   \n",
       "Views       0.017400 -0.045331  0.498642  0.002306  0.436074  0.183119   \n",
       "tvr         0.004919  0.018531  0.187784 -0.010694  0.941114  0.535800   \n",
       "Vians       0.008350 -0.020321  0.472579 -0.000165  0.456453  0.206219   \n",
       "\n",
       "            Reputation     Views       tvr     Vians  \n",
       "ID            0.008546  0.017400  0.004919  0.008350  \n",
       "Tag          -0.039439 -0.045331  0.018531 -0.020321  \n",
       "Answers       0.066504  0.498642  0.187784  0.472579  \n",
       "Username     -0.041019  0.002306 -0.010694 -0.000165  \n",
       "Repvi         0.274403  0.436074  0.941114  0.456453  \n",
       "Repans        0.728370  0.183119  0.535800  0.206219  \n",
       "Reputation    1.000000  0.036455  0.251862  0.034255  \n",
       "Views         0.036455  1.000000  0.419649  0.817813  \n",
       "tvr           0.251862  0.419649  1.000000  0.426633  \n",
       "Vians         0.034255  0.817813  0.426633  1.000000  "
      ]
     },
     "execution_count": 185,
     "metadata": {},
     "output_type": "execute_result"
    }
   ],
   "source": [
    "X_train.corr()"
   ]
  },
  {
   "cell_type": "code",
   "execution_count": 186,
   "metadata": {},
   "outputs": [
    {
     "data": {
      "text/plain": [
       "97.94"
      ]
     },
     "execution_count": 186,
     "metadata": {},
     "output_type": "execute_result"
    }
   ],
   "source": [
    "from sklearn.ensemble import RandomForestRegressor\n",
    "regressor = RandomForestRegressor(n_estimators = 7, random_state = 0)\n",
    "regressor.fit(X_train,Y_train)\n",
    "\n",
    "y_pred = regressor.predict(test)\n",
    "\n",
    "acc_log = round(regressor.score(X_train, Y_train) * 100, 2)\n",
    "acc_log"
   ]
  },
  {
   "cell_type": "code",
   "execution_count": 187,
   "metadata": {},
   "outputs": [],
   "source": [
    "submission = pd.DataFrame({\n",
    "        \"ID\": test[\"ID\"],\n",
    "        \"Upvotes\": y_pred\n",
    "    })\n",
    "submission.to_csv('C:/Users/Nikose/Desktop/enigma/sub24.csv', index=False)"
   ]
  },
  {
   "cell_type": "code",
   "execution_count": 198,
   "metadata": {},
   "outputs": [
    {
     "data": {
      "text/plain": [
       "<matplotlib.collections.PathCollection at 0x1faa15bee48>"
      ]
     },
     "execution_count": 198,
     "metadata": {},
     "output_type": "execute_result"
    },
    {
     "data": {
      "image/png": "[encoded data removed]",
      "text/plain": [
       "<matplotlib.figure.Figure at 0x1faa1537b00>"
      ]
     },
     "metadata": {},
     "output_type": "display_data"
    }
   ],
   "source": [
    "plt.scatter(train['Upvotes'],X_train['ID']*X_train['Repvi'] ,color = 'red')\n"
   ]
  },
  {
   "cell_type": "code",
   "execution_count": 178,
   "metadata": {},
   "outputs": [],
   "source": [
    "X_train = X_train.drop(['Vians'], axis=1)\n",
    "test = test.drop(['Vians'], axis=1)"
   ]
  },
  {
   "cell_type": "code",
   "execution_count": 199,
   "metadata": {},
   "outputs": [],
   "source": [
    "X_train['IR'] = X_train['ID']*X_train['Repvi']"
   ]
  },
  {
   "cell_type": "code",
   "execution_count": 200,
   "metadata": {},
   "outputs": [],
   "source": [
    "test['IR'] = test['ID']*test['Repvi']"
   ]
  },
  {
   "cell_type": "code",
   "execution_count": 201,
   "metadata": {
    "scrolled": false
   },
   "outputs": [
    {
     "data": {
      "text/html": [
       "<div>\n",
       "<style scoped>\n",
       "    .dataframe tbody tr th:only-of-type {\n",
       "        vertical-align: middle;\n",
       "    }\n",
       "\n",
       "    .dataframe tbody tr th {\n",
       "        vertical-align: top;\n",
       "    }\n",
       "\n",
       "    .dataframe thead th {\n",
       "        text-align: right;\n",
       "    }\n",
       "</style>\n",
       "<table border=\"1\" class=\"dataframe\">\n",
       "  <thead>\n",
       "    <tr style=\"text-align: right;\">\n",
       "      <th></th>\n",
       "      <th>ID</th>\n",
       "      <th>Tag</th>\n",
       "      <th>Answers</th>\n",
       "      <th>Username</th>\n",
       "      <th>Repvi</th>\n",
       "      <th>Repans</th>\n",
       "      <th>Reputation</th>\n",
       "      <th>Views</th>\n",
       "      <th>tvr</th>\n",
       "      <th>Vians</th>\n",
       "      <th>IR</th>\n",
       "    </tr>\n",
       "  </thead>\n",
       "  <tbody>\n",
       "    <tr>\n",
       "      <th>ID</th>\n",
       "      <td>1.000000</td>\n",
       "      <td>-0.027008</td>\n",
       "      <td>0.017448</td>\n",
       "      <td>0.000628</td>\n",
       "      <td>0.005733</td>\n",
       "      <td>0.008159</td>\n",
       "      <td>0.008546</td>\n",
       "      <td>0.017400</td>\n",
       "      <td>0.004919</td>\n",
       "      <td>0.008350</td>\n",
       "      <td>0.048568</td>\n",
       "    </tr>\n",
       "    <tr>\n",
       "      <th>Tag</th>\n",
       "      <td>-0.027008</td>\n",
       "      <td>1.000000</td>\n",
       "      <td>-0.056683</td>\n",
       "      <td>-0.007247</td>\n",
       "      <td>-0.015176</td>\n",
       "      <td>-0.035797</td>\n",
       "      <td>-0.039439</td>\n",
       "      <td>-0.045331</td>\n",
       "      <td>0.018531</td>\n",
       "      <td>-0.020321</td>\n",
       "      <td>-0.014158</td>\n",
       "    </tr>\n",
       "    <tr>\n",
       "      <th>Answers</th>\n",
       "      <td>0.017448</td>\n",
       "      <td>-0.056683</td>\n",
       "      <td>1.000000</td>\n",
       "      <td>-0.012197</td>\n",
       "      <td>0.202277</td>\n",
       "      <td>0.280045</td>\n",
       "      <td>0.066504</td>\n",
       "      <td>0.498642</td>\n",
       "      <td>0.187784</td>\n",
       "      <td>0.472579</td>\n",
       "      <td>0.185105</td>\n",
       "    </tr>\n",
       "    <tr>\n",
       "      <th>Username</th>\n",
       "      <td>0.000628</td>\n",
       "      <td>-0.007247</td>\n",
       "      <td>-0.012197</td>\n",
       "      <td>1.000000</td>\n",
       "      <td>-0.012182</td>\n",
       "      <td>-0.029477</td>\n",
       "      <td>-0.041019</td>\n",
       "      <td>0.002306</td>\n",
       "      <td>-0.010694</td>\n",
       "      <td>-0.000165</td>\n",
       "      <td>-0.010430</td>\n",
       "    </tr>\n",
       "    <tr>\n",
       "      <th>Repvi</th>\n",
       "      <td>0.005733</td>\n",
       "      <td>-0.015176</td>\n",
       "      <td>0.202277</td>\n",
       "      <td>-0.012182</td>\n",
       "      <td>1.000000</td>\n",
       "      <td>0.587389</td>\n",
       "      <td>0.274403</td>\n",
       "      <td>0.436074</td>\n",
       "      <td>0.941114</td>\n",
       "      <td>0.456453</td>\n",
       "      <td>0.897425</td>\n",
       "    </tr>\n",
       "    <tr>\n",
       "      <th>Repans</th>\n",
       "      <td>0.008159</td>\n",
       "      <td>-0.035797</td>\n",
       "      <td>0.280045</td>\n",
       "      <td>-0.029477</td>\n",
       "      <td>0.587389</td>\n",
       "      <td>1.000000</td>\n",
       "      <td>0.728370</td>\n",
       "      <td>0.183119</td>\n",
       "      <td>0.535800</td>\n",
       "      <td>0.206219</td>\n",
       "      <td>0.532099</td>\n",
       "    </tr>\n",
       "    <tr>\n",
       "      <th>Reputation</th>\n",
       "      <td>0.008546</td>\n",
       "      <td>-0.039439</td>\n",
       "      <td>0.066504</td>\n",
       "      <td>-0.041019</td>\n",
       "      <td>0.274403</td>\n",
       "      <td>0.728370</td>\n",
       "      <td>1.000000</td>\n",
       "      <td>0.036455</td>\n",
       "      <td>0.251862</td>\n",
       "      <td>0.034255</td>\n",
       "      <td>0.249834</td>\n",
       "    </tr>\n",
       "    <tr>\n",
       "      <th>Views</th>\n",
       "      <td>0.017400</td>\n",
       "      <td>-0.045331</td>\n",
       "      <td>0.498642</td>\n",
       "      <td>0.002306</td>\n",
       "      <td>0.436074</td>\n",
       "      <td>0.183119</td>\n",
       "      <td>0.036455</td>\n",
       "      <td>1.000000</td>\n",
       "      <td>0.419649</td>\n",
       "      <td>0.817813</td>\n",
       "      <td>0.403278</td>\n",
       "    </tr>\n",
       "    <tr>\n",
       "      <th>tvr</th>\n",
       "      <td>0.004919</td>\n",
       "      <td>0.018531</td>\n",
       "      <td>0.187784</td>\n",
       "      <td>-0.010694</td>\n",
       "      <td>0.941114</td>\n",
       "      <td>0.535800</td>\n",
       "      <td>0.251862</td>\n",
       "      <td>0.419649</td>\n",
       "      <td>1.000000</td>\n",
       "      <td>0.426633</td>\n",
       "      <td>0.826652</td>\n",
       "    </tr>\n",
       "    <tr>\n",
       "      <th>Vians</th>\n",
       "      <td>0.008350</td>\n",
       "      <td>-0.020321</td>\n",
       "      <td>0.472579</td>\n",
       "      <td>-0.000165</td>\n",
       "      <td>0.456453</td>\n",
       "      <td>0.206219</td>\n",
       "      <td>0.034255</td>\n",
       "      <td>0.817813</td>\n",
       "      <td>0.426633</td>\n",
       "      <td>1.000000</td>\n",
       "      <td>0.442472</td>\n",
       "    </tr>\n",
       "    <tr>\n",
       "      <th>IR</th>\n",
       "      <td>0.048568</td>\n",
       "      <td>-0.014158</td>\n",
       "      <td>0.185105</td>\n",
       "      <td>-0.010430</td>\n",
       "      <td>0.897425</td>\n",
       "      <td>0.532099</td>\n",
       "      <td>0.249834</td>\n",
       "      <td>0.403278</td>\n",
       "      <td>0.826652</td>\n",
       "      <td>0.442472</td>\n",
       "      <td>1.000000</td>\n",
       "    </tr>\n",
       "  </tbody>\n",
       "</table>\n",
       "</div>"
      ],
      "text/plain": [
       "                  ID       Tag   Answers  Username     Repvi    Repans  \\\n",
       "ID          1.000000 -0.027008  0.017448  0.000628  0.005733  0.008159   \n",
       "Tag        -0.027008  1.000000 -0.056683 -0.007247 -0.015176 -0.035797   \n",
       "Answers     0.017448 -0.056683  1.000000 -0.012197  0.202277  0.280045   \n",
       "Username    0.000628 -0.007247 -0.012197  1.000000 -0.012182 -0.029477   \n",
       "Repvi       0.005733 -0.015176  0.202277 -0.012182  1.000000  0.587389   \n",
       "Repans      0.008159 -0.035797  0.280045 -0.029477  0.587389  1.000000   \n",
       "Reputation  0.008546 -0.039439  0.066504 -0.041019  0.274403  0.728370   \n",
       "Views       0.017400 -0.045331  0.498642  0.002306  0.436074  0.183119   \n",
       "tvr         0.004919  0.018531  0.187784 -0.010694  0.941114  0.535800   \n",
       "Vians       0.008350 -0.020321  0.472579 -0.000165  0.456453  0.206219   \n",
       "IR          0.048568 -0.014158  0.185105 -0.010430  0.897425  0.532099   \n",
       "\n",
       "            Reputation     Views       tvr     Vians        IR  \n",
       "ID            0.008546  0.017400  0.004919  0.008350  0.048568  \n",
       "Tag          -0.039439 -0.045331  0.018531 -0.020321 -0.014158  \n",
       "Answers       0.066504  0.498642  0.187784  0.472579  0.185105  \n",
       "Username     -0.041019  0.002306 -0.010694 -0.000165 -0.010430  \n",
       "Repvi         0.274403  0.436074  0.941114  0.456453  0.897425  \n",
       "Repans        0.728370  0.183119  0.535800  0.206219  0.532099  \n",
       "Reputation    1.000000  0.036455  0.251862  0.034255  0.249834  \n",
       "Views         0.036455  1.000000  0.419649  0.817813  0.403278  \n",
       "tvr           0.251862  0.419649  1.000000  0.426633  0.826652  \n",
       "Vians         0.034255  0.817813  0.426633  1.000000  0.442472  \n",
       "IR            0.249834  0.403278  0.826652  0.442472  1.000000  "
      ]
     },
     "execution_count": 201,
     "metadata": {},
     "output_type": "execute_result"
    }
   ],
   "source": [
    "X_train.corr()"
   ]
  },
  {
   "cell_type": "code",
   "execution_count": 207,
   "metadata": {},
   "outputs": [],
   "source": [
    "X_train = X_train.drop('ID',axis = 1)"
   ]
  },
  {
   "cell_type": "code",
   "execution_count": 210,
   "metadata": {},
   "outputs": [],
   "source": [
    "test = test.drop('ID',axis = 1)"
   ]
  },
  {
   "cell_type": "code",
   "execution_count": 208,
   "metadata": {},
   "outputs": [
    {
     "data": {
      "text/html": [
       "<div>\n",
       "<style scoped>\n",
       "    .dataframe tbody tr th:only-of-type {\n",
       "        vertical-align: middle;\n",
       "    }\n",
       "\n",
       "    .dataframe tbody tr th {\n",
       "        vertical-align: top;\n",
       "    }\n",
       "\n",
       "    .dataframe thead th {\n",
       "        text-align: right;\n",
       "    }\n",
       "</style>\n",
       "<table border=\"1\" class=\"dataframe\">\n",
       "  <thead>\n",
       "    <tr style=\"text-align: right;\">\n",
       "      <th></th>\n",
       "      <th>Tag</th>\n",
       "      <th>Answers</th>\n",
       "      <th>Username</th>\n",
       "      <th>Repvi</th>\n",
       "      <th>Repans</th>\n",
       "      <th>Reputation</th>\n",
       "      <th>Views</th>\n",
       "      <th>tvr</th>\n",
       "      <th>Vians</th>\n",
       "      <th>IR</th>\n",
       "    </tr>\n",
       "  </thead>\n",
       "  <tbody>\n",
       "    <tr>\n",
       "      <th>Tag</th>\n",
       "      <td>1.000000</td>\n",
       "      <td>-0.056683</td>\n",
       "      <td>-0.007247</td>\n",
       "      <td>-0.015176</td>\n",
       "      <td>-0.035797</td>\n",
       "      <td>-0.039439</td>\n",
       "      <td>-0.045331</td>\n",
       "      <td>0.018531</td>\n",
       "      <td>-0.020321</td>\n",
       "      <td>-0.014158</td>\n",
       "    </tr>\n",
       "    <tr>\n",
       "      <th>Answers</th>\n",
       "      <td>-0.056683</td>\n",
       "      <td>1.000000</td>\n",
       "      <td>-0.012197</td>\n",
       "      <td>0.202277</td>\n",
       "      <td>0.280045</td>\n",
       "      <td>0.066504</td>\n",
       "      <td>0.498642</td>\n",
       "      <td>0.187784</td>\n",
       "      <td>0.472579</td>\n",
       "      <td>0.185105</td>\n",
       "    </tr>\n",
       "    <tr>\n",
       "      <th>Username</th>\n",
       "      <td>-0.007247</td>\n",
       "      <td>-0.012197</td>\n",
       "      <td>1.000000</td>\n",
       "      <td>-0.012182</td>\n",
       "      <td>-0.029477</td>\n",
       "      <td>-0.041019</td>\n",
       "      <td>0.002306</td>\n",
       "      <td>-0.010694</td>\n",
       "      <td>-0.000165</td>\n",
       "      <td>-0.010430</td>\n",
       "    </tr>\n",
       "    <tr>\n",
       "      <th>Repvi</th>\n",
       "      <td>-0.015176</td>\n",
       "      <td>0.202277</td>\n",
       "      <td>-0.012182</td>\n",
       "      <td>1.000000</td>\n",
       "      <td>0.587389</td>\n",
       "      <td>0.274403</td>\n",
       "      <td>0.436074</td>\n",
       "      <td>0.941114</td>\n",
       "      <td>0.456453</td>\n",
       "      <td>0.897425</td>\n",
       "    </tr>\n",
       "    <tr>\n",
       "      <th>Repans</th>\n",
       "      <td>-0.035797</td>\n",
       "      <td>0.280045</td>\n",
       "      <td>-0.029477</td>\n",
       "      <td>0.587389</td>\n",
       "      <td>1.000000</td>\n",
       "      <td>0.728370</td>\n",
       "      <td>0.183119</td>\n",
       "      <td>0.535800</td>\n",
       "      <td>0.206219</td>\n",
       "      <td>0.532099</td>\n",
       "    </tr>\n",
       "    <tr>\n",
       "      <th>Reputation</th>\n",
       "      <td>-0.039439</td>\n",
       "      <td>0.066504</td>\n",
       "      <td>-0.041019</td>\n",
       "      <td>0.274403</td>\n",
       "      <td>0.728370</td>\n",
       "      <td>1.000000</td>\n",
       "      <td>0.036455</td>\n",
       "      <td>0.251862</td>\n",
       "      <td>0.034255</td>\n",
       "      <td>0.249834</td>\n",
       "    </tr>\n",
       "    <tr>\n",
       "      <th>Views</th>\n",
       "      <td>-0.045331</td>\n",
       "      <td>0.498642</td>\n",
       "      <td>0.002306</td>\n",
       "      <td>0.436074</td>\n",
       "      <td>0.183119</td>\n",
       "      <td>0.036455</td>\n",
       "      <td>1.000000</td>\n",
       "      <td>0.419649</td>\n",
       "      <td>0.817813</td>\n",
       "      <td>0.403278</td>\n",
       "    </tr>\n",
       "    <tr>\n",
       "      <th>tvr</th>\n",
       "      <td>0.018531</td>\n",
       "      <td>0.187784</td>\n",
       "      <td>-0.010694</td>\n",
       "      <td>0.941114</td>\n",
       "      <td>0.535800</td>\n",
       "      <td>0.251862</td>\n",
       "      <td>0.419649</td>\n",
       "      <td>1.000000</td>\n",
       "      <td>0.426633</td>\n",
       "      <td>0.826652</td>\n",
       "    </tr>\n",
       "    <tr>\n",
       "      <th>Vians</th>\n",
       "      <td>-0.020321</td>\n",
       "      <td>0.472579</td>\n",
       "      <td>-0.000165</td>\n",
       "      <td>0.456453</td>\n",
       "      <td>0.206219</td>\n",
       "      <td>0.034255</td>\n",
       "      <td>0.817813</td>\n",
       "      <td>0.426633</td>\n",
       "      <td>1.000000</td>\n",
       "      <td>0.442472</td>\n",
       "    </tr>\n",
       "    <tr>\n",
       "      <th>IR</th>\n",
       "      <td>-0.014158</td>\n",
       "      <td>0.185105</td>\n",
       "      <td>-0.010430</td>\n",
       "      <td>0.897425</td>\n",
       "      <td>0.532099</td>\n",
       "      <td>0.249834</td>\n",
       "      <td>0.403278</td>\n",
       "      <td>0.826652</td>\n",
       "      <td>0.442472</td>\n",
       "      <td>1.000000</td>\n",
       "    </tr>\n",
       "  </tbody>\n",
       "</table>\n",
       "</div>"
      ],
      "text/plain": [
       "                 Tag   Answers  Username     Repvi    Repans  Reputation  \\\n",
       "Tag         1.000000 -0.056683 -0.007247 -0.015176 -0.035797   -0.039439   \n",
       "Answers    -0.056683  1.000000 -0.012197  0.202277  0.280045    0.066504   \n",
       "Username   -0.007247 -0.012197  1.000000 -0.012182 -0.029477   -0.041019   \n",
       "Repvi      -0.015176  0.202277 -0.012182  1.000000  0.587389    0.274403   \n",
       "Repans     -0.035797  0.280045 -0.029477  0.587389  1.000000    0.728370   \n",
       "Reputation -0.039439  0.066504 -0.041019  0.274403  0.728370    1.000000   \n",
       "Views      -0.045331  0.498642  0.002306  0.436074  0.183119    0.036455   \n",
       "tvr         0.018531  0.187784 -0.010694  0.941114  0.535800    0.251862   \n",
       "Vians      -0.020321  0.472579 -0.000165  0.456453  0.206219    0.034255   \n",
       "IR         -0.014158  0.185105 -0.010430  0.897425  0.532099    0.249834   \n",
       "\n",
       "               Views       tvr     Vians        IR  \n",
       "Tag        -0.045331  0.018531 -0.020321 -0.014158  \n",
       "Answers     0.498642  0.187784  0.472579  0.185105  \n",
       "Username    0.002306 -0.010694 -0.000165 -0.010430  \n",
       "Repvi       0.436074  0.941114  0.456453  0.897425  \n",
       "Repans      0.183119  0.535800  0.206219  0.532099  \n",
       "Reputation  0.036455  0.251862  0.034255  0.249834  \n",
       "Views       1.000000  0.419649  0.817813  0.403278  \n",
       "tvr         0.419649  1.000000  0.426633  0.826652  \n",
       "Vians       0.817813  0.426633  1.000000  0.442472  \n",
       "IR          0.403278  0.826652  0.442472  1.000000  "
      ]
     },
     "execution_count": 208,
     "metadata": {},
     "output_type": "execute_result"
    }
   ],
   "source": [
    "X_train.corr()"
   ]
  },
  {
   "cell_type": "code",
   "execution_count": 216,
   "metadata": {},
   "outputs": [],
   "source": [
    "X_train = pd.get_dummies(X_train,columns = ['Tag'],drop_first = True).head(2)"
   ]
  },
  {
   "cell_type": "code",
   "execution_count": 219,
   "metadata": {},
   "outputs": [],
   "source": [
    "test = pd.get_dummies(test,columns = ['Tag'],drop_first = True).head(2)"
   ]
  },
  {
   "cell_type": "code",
   "execution_count": 236,
   "metadata": {},
   "outputs": [
    {
     "data": {
      "text/plain": [
       "(2, 17)"
      ]
     },
     "execution_count": 236,
     "metadata": {},
     "output_type": "execute_result"
    }
   ],
   "source": [
    "X_train.shape"
   ]
  },
  {
   "cell_type": "code",
   "execution_count": 237,
   "metadata": {},
   "outputs": [
    {
     "data": {
      "text/plain": [
       "(2, 17)"
      ]
     },
     "execution_count": 237,
     "metadata": {},
     "output_type": "execute_result"
    }
   ],
   "source": [
    "test.shape"
   ]
  },
  {
   "cell_type": "code",
   "execution_count": 233,
   "metadata": {},
   "outputs": [],
   "source": [
    "test['ID'] = test1['ID']"
   ]
  },
  {
   "cell_type": "code",
   "execution_count": 205,
   "metadata": {},
   "outputs": [
    {
     "data": {
      "text/plain": [
       "<matplotlib.collections.PathCollection at 0x1faa16d2710>"
      ]
     },
     "execution_count": 205,
     "metadata": {},
     "output_type": "execute_result"
    },
    {
     "data": {
      "image/png": "[encoded data removed]",
      "text/plain": [
       "<matplotlib.figure.Figure at 0x1fa88032588>"
      ]
     },
     "metadata": {},
     "output_type": "display_data"
    }
   ],
   "source": [
    "plt.scatter(train['Upvotes'],np.log(X_train['ID']),color = 'red')"
   ]
  },
  {
   "cell_type": "code",
   "execution_count": 202,
   "metadata": {},
   "outputs": [
    {
     "data": {
      "text/plain": [
       "97.8"
      ]
     },
     "execution_count": 202,
     "metadata": {},
     "output_type": "execute_result"
    }
   ],
   "source": [
    "from sklearn.ensemble import RandomForestRegressor\n",
    "regressor = RandomForestRegressor(n_estimators = 7, random_state = 0)\n",
    "regressor.fit(X_train,Y_train)\n",
    "\n",
    "y_pred = regressor.predict(test)\n",
    "\n",
    "acc_log = round(regressor.score(X_train, Y_train) * 100, 2)\n",
    "acc_log"
   ]
  },
  {
   "cell_type": "code",
   "execution_count": 203,
   "metadata": {},
   "outputs": [],
   "source": [
    "submission = pd.DataFrame({\n",
    "        \"ID\": test[\"ID\"],\n",
    "        \"Upvotes\": y_pred\n",
    "    })\n",
    "submission.to_csv('C:/Users/Nikose/Desktop/enigma/sub25.csv', index=False)"
   ]
  },
  {
   "cell_type": "code",
   "execution_count": 179,
   "metadata": {},
   "outputs": [
    {
     "data": {
      "text/html": [
       "<div>\n",
       "<style scoped>\n",
       "    .dataframe tbody tr th:only-of-type {\n",
       "        vertical-align: middle;\n",
       "    }\n",
       "\n",
       "    .dataframe tbody tr th {\n",
       "        vertical-align: top;\n",
       "    }\n",
       "\n",
       "    .dataframe thead th {\n",
       "        text-align: right;\n",
       "    }\n",
       "</style>\n",
       "<table border=\"1\" class=\"dataframe\">\n",
       "  <thead>\n",
       "    <tr style=\"text-align: right;\">\n",
       "      <th></th>\n",
       "      <th>ID</th>\n",
       "      <th>Tag</th>\n",
       "      <th>Answers</th>\n",
       "      <th>Username</th>\n",
       "      <th>Repvi</th>\n",
       "      <th>Repans</th>\n",
       "      <th>Reputation</th>\n",
       "      <th>Views</th>\n",
       "      <th>tvr</th>\n",
       "    </tr>\n",
       "  </thead>\n",
       "  <tbody>\n",
       "    <tr>\n",
       "      <th>ID</th>\n",
       "      <td>1.000000</td>\n",
       "      <td>-0.027008</td>\n",
       "      <td>0.017448</td>\n",
       "      <td>0.000628</td>\n",
       "      <td>0.005733</td>\n",
       "      <td>0.008159</td>\n",
       "      <td>0.008546</td>\n",
       "      <td>0.017400</td>\n",
       "      <td>0.004919</td>\n",
       "    </tr>\n",
       "    <tr>\n",
       "      <th>Tag</th>\n",
       "      <td>-0.027008</td>\n",
       "      <td>1.000000</td>\n",
       "      <td>-0.056683</td>\n",
       "      <td>-0.007247</td>\n",
       "      <td>-0.015176</td>\n",
       "      <td>-0.035797</td>\n",
       "      <td>-0.039439</td>\n",
       "      <td>-0.045331</td>\n",
       "      <td>0.018531</td>\n",
       "    </tr>\n",
       "    <tr>\n",
       "      <th>Answers</th>\n",
       "      <td>0.017448</td>\n",
       "      <td>-0.056683</td>\n",
       "      <td>1.000000</td>\n",
       "      <td>-0.012197</td>\n",
       "      <td>0.202277</td>\n",
       "      <td>0.280045</td>\n",
       "      <td>0.066504</td>\n",
       "      <td>0.498642</td>\n",
       "      <td>0.187784</td>\n",
       "    </tr>\n",
       "    <tr>\n",
       "      <th>Username</th>\n",
       "      <td>0.000628</td>\n",
       "      <td>-0.007247</td>\n",
       "      <td>-0.012197</td>\n",
       "      <td>1.000000</td>\n",
       "      <td>-0.012182</td>\n",
       "      <td>-0.029477</td>\n",
       "      <td>-0.041019</td>\n",
       "      <td>0.002306</td>\n",
       "      <td>-0.010694</td>\n",
       "    </tr>\n",
       "    <tr>\n",
       "      <th>Repvi</th>\n",
       "      <td>0.005733</td>\n",
       "      <td>-0.015176</td>\n",
       "      <td>0.202277</td>\n",
       "      <td>-0.012182</td>\n",
       "      <td>1.000000</td>\n",
       "      <td>0.587389</td>\n",
       "      <td>0.274403</td>\n",
       "      <td>0.436074</td>\n",
       "      <td>0.941114</td>\n",
       "    </tr>\n",
       "    <tr>\n",
       "      <th>Repans</th>\n",
       "      <td>0.008159</td>\n",
       "      <td>-0.035797</td>\n",
       "      <td>0.280045</td>\n",
       "      <td>-0.029477</td>\n",
       "      <td>0.587389</td>\n",
       "      <td>1.000000</td>\n",
       "      <td>0.728370</td>\n",
       "      <td>0.183119</td>\n",
       "      <td>0.535800</td>\n",
       "    </tr>\n",
       "    <tr>\n",
       "      <th>Reputation</th>\n",
       "      <td>0.008546</td>\n",
       "      <td>-0.039439</td>\n",
       "      <td>0.066504</td>\n",
       "      <td>-0.041019</td>\n",
       "      <td>0.274403</td>\n",
       "      <td>0.728370</td>\n",
       "      <td>1.000000</td>\n",
       "      <td>0.036455</td>\n",
       "      <td>0.251862</td>\n",
       "    </tr>\n",
       "    <tr>\n",
       "      <th>Views</th>\n",
       "      <td>0.017400</td>\n",
       "      <td>-0.045331</td>\n",
       "      <td>0.498642</td>\n",
       "      <td>0.002306</td>\n",
       "      <td>0.436074</td>\n",
       "      <td>0.183119</td>\n",
       "      <td>0.036455</td>\n",
       "      <td>1.000000</td>\n",
       "      <td>0.419649</td>\n",
       "    </tr>\n",
       "    <tr>\n",
       "      <th>tvr</th>\n",
       "      <td>0.004919</td>\n",
       "      <td>0.018531</td>\n",
       "      <td>0.187784</td>\n",
       "      <td>-0.010694</td>\n",
       "      <td>0.941114</td>\n",
       "      <td>0.535800</td>\n",
       "      <td>0.251862</td>\n",
       "      <td>0.419649</td>\n",
       "      <td>1.000000</td>\n",
       "    </tr>\n",
       "  </tbody>\n",
       "</table>\n",
       "</div>"
      ],
      "text/plain": [
       "                  ID       Tag   Answers  Username     Repvi    Repans  \\\n",
       "ID          1.000000 -0.027008  0.017448  0.000628  0.005733  0.008159   \n",
       "Tag        -0.027008  1.000000 -0.056683 -0.007247 -0.015176 -0.035797   \n",
       "Answers     0.017448 -0.056683  1.000000 -0.012197  0.202277  0.280045   \n",
       "Username    0.000628 -0.007247 -0.012197  1.000000 -0.012182 -0.029477   \n",
       "Repvi       0.005733 -0.015176  0.202277 -0.012182  1.000000  0.587389   \n",
       "Repans      0.008159 -0.035797  0.280045 -0.029477  0.587389  1.000000   \n",
       "Reputation  0.008546 -0.039439  0.066504 -0.041019  0.274403  0.728370   \n",
       "Views       0.017400 -0.045331  0.498642  0.002306  0.436074  0.183119   \n",
       "tvr         0.004919  0.018531  0.187784 -0.010694  0.941114  0.535800   \n",
       "\n",
       "            Reputation     Views       tvr  \n",
       "ID            0.008546  0.017400  0.004919  \n",
       "Tag          -0.039439 -0.045331  0.018531  \n",
       "Answers       0.066504  0.498642  0.187784  \n",
       "Username     -0.041019  0.002306 -0.010694  \n",
       "Repvi         0.274403  0.436074  0.941114  \n",
       "Repans        0.728370  0.183119  0.535800  \n",
       "Reputation    1.000000  0.036455  0.251862  \n",
       "Views         0.036455  1.000000  0.419649  \n",
       "tvr           0.251862  0.419649  1.000000  "
      ]
     },
     "execution_count": 179,
     "metadata": {},
     "output_type": "execute_result"
    }
   ],
   "source": [
    "X_train.corr()"
   ]
  },
  {
   "cell_type": "code",
   "execution_count": 180,
   "metadata": {},
   "outputs": [
    {
     "data": {
      "text/plain": [
       "97.73"
      ]
     },
     "execution_count": 180,
     "metadata": {},
     "output_type": "execute_result"
    }
   ],
   "source": [
    "from sklearn.ensemble import RandomForestRegressor\n",
    "regressor = RandomForestRegressor(n_estimators = 7, random_state = 0)\n",
    "regressor.fit(X_train,Y_train)\n",
    "\n",
    "y_pred = regressor.predict(test)\n",
    "\n",
    "acc_log = round(regressor.score(X_train, Y_train) * 100, 2)\n",
    "acc_log"
   ]
  },
  {
   "cell_type": "code",
   "execution_count": 181,
   "metadata": {},
   "outputs": [],
   "source": [
    "submission = pd.DataFrame({\n",
    "        \"ID\": test[\"ID\"],\n",
    "        \"Upvotes\": y_pred\n",
    "    })\n",
    "submission.to_csv('C:/Users/Nikose/Desktop/enigma/sub22.csv', index=False)"
   ]
  }
 ],
 "metadata": {
  "kernelspec": {
   "display_name": "Python 3",
   "language": "python",
   "name": "python3"
  },
  "language_info": {
   "codemirror_mode": {
    "name": "ipython",
    "version": 3
   },
   "file_extension": ".py",
   "mimetype": "text/x-python",
   "name": "python",
   "nbconvert_exporter": "python",
   "pygments_lexer": "ipython3",
   "version": "3.6.1"
  }
 },
 "nbformat": 4,
 "nbformat_minor": 2
}
